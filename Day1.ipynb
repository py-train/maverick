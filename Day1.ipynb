{
 "cells": [
  {
   "cell_type": "code",
   "execution_count": 2,
   "id": "035b13cb-61a9-45da-87f7-3ad030127c4d",
   "metadata": {},
   "outputs": [],
   "source": [
    "nums1 = range(10,15)"
   ]
  },
  {
   "cell_type": "code",
   "execution_count": 3,
   "id": "5754afa2-e3a2-4352-ad25-3e5c632d89d4",
   "metadata": {},
   "outputs": [],
   "source": [
    "nums2 = [10,11,12,13,14]"
   ]
  },
  {
   "cell_type": "code",
   "execution_count": 5,
   "id": "1e7f4d12-583b-4631-a5f2-43ee0e8bba2e",
   "metadata": {},
   "outputs": [
    {
     "name": "stdout",
     "output_type": "stream",
     "text": [
      "10\n",
      "11\n",
      "12\n",
      "13\n",
      "14\n"
     ]
    }
   ],
   "source": [
    "for num in nums1:\n",
    "    print(num)"
   ]
  },
  {
   "cell_type": "code",
   "execution_count": 21,
   "id": "31beeb99-9a19-427e-9ea2-f377bf94c85a",
   "metadata": {},
   "outputs": [
    {
     "data": {
      "text/plain": [
       "range(10, 15)"
      ]
     },
     "execution_count": 21,
     "metadata": {},
     "output_type": "execute_result"
    }
   ],
   "source": [
    "nums1"
   ]
  },
  {
   "cell_type": "code",
   "execution_count": 8,
   "id": "ef7ad6d7-64c5-464c-9163-20141c22f371",
   "metadata": {},
   "outputs": [
    {
     "data": {
      "text/plain": [
       "range"
      ]
     },
     "execution_count": 8,
     "metadata": {},
     "output_type": "execute_result"
    }
   ],
   "source": [
    "type(nums1)"
   ]
  },
  {
   "cell_type": "code",
   "execution_count": 15,
   "id": "6d4dc999-e496-4662-9ad3-02ed1d66e47a",
   "metadata": {},
   "outputs": [],
   "source": [
    "items  = 'bread butter chocolate coke cookies'.split()\n",
    "prices = [60,   125,   150,      45,  101]"
   ]
  },
  {
   "cell_type": "code",
   "execution_count": 12,
   "id": "e89b6196-590a-4268-9134-f11eb5608ca4",
   "metadata": {},
   "outputs": [
    {
     "data": {
      "text/plain": [
       "{'bread': 60, 'butter': 125}"
      ]
     },
     "execution_count": 12,
     "metadata": {},
     "output_type": "execute_result"
    }
   ],
   "source": [
    "{'bread': 60, 'butter': 125,}"
   ]
  },
  {
   "cell_type": "code",
   "execution_count": 26,
   "id": "f054dfb2-e4f4-41c7-a7c0-d7965adfa572",
   "metadata": {},
   "outputs": [
    {
     "data": {
      "text/plain": [
       "<zip at 0x107635c80>"
      ]
     },
     "execution_count": 26,
     "metadata": {},
     "output_type": "execute_result"
    }
   ],
   "source": [
    "item_prices = zip(items, prices)\n",
    "item_prices"
   ]
  },
  {
   "cell_type": "code",
   "execution_count": 18,
   "id": "d11c4ed1-0b33-4fe1-801b-9142272be62e",
   "metadata": {},
   "outputs": [
    {
     "name": "stdout",
     "output_type": "stream",
     "text": [
      "<zip object at 0x107519300>\n"
     ]
    }
   ],
   "source": [
    "print(item_prices)"
   ]
  },
  {
   "cell_type": "code",
   "execution_count": 19,
   "id": "9c1b91e7-0dc0-45f0-91ef-7943e565ea6d",
   "metadata": {},
   "outputs": [
    {
     "data": {
      "text/plain": [
       "{'bread': 60, 'butter': 125, 'chocolate': 150, 'coke': 45, 'cookies': 101}"
      ]
     },
     "execution_count": 19,
     "metadata": {},
     "output_type": "execute_result"
    }
   ],
   "source": [
    "dict(item_prices)"
   ]
  },
  {
   "cell_type": "code",
   "execution_count": 13,
   "id": "f6d4c2bd-78a9-42c7-96ba-c4e9f78f38d3",
   "metadata": {},
   "outputs": [
    {
     "name": "stdout",
     "output_type": "stream",
     "text": [
      "h\n",
      "e\n",
      "l\n",
      "l\n",
      "o\n",
      " \n",
      "w\n",
      "o\n",
      "r\n",
      "l\n",
      "d\n",
      "!\n"
     ]
    }
   ],
   "source": [
    "# strings are iterable\n",
    "for smth in 'hello world!':\n",
    "    print(smth)"
   ]
  },
  {
   "cell_type": "code",
   "execution_count": 23,
   "id": "5929d379-718e-4fea-a56d-e699a45ad63d",
   "metadata": {},
   "outputs": [
    {
     "data": {
      "text/plain": [
       "[10, 11, 12, 13, 14]"
      ]
     },
     "execution_count": 23,
     "metadata": {},
     "output_type": "execute_result"
    }
   ],
   "source": [
    "list(nums1)"
   ]
  },
  {
   "cell_type": "code",
   "execution_count": 24,
   "id": "8437ce3a-1526-43a1-a3df-30cc1034643f",
   "metadata": {},
   "outputs": [
    {
     "data": {
      "text/plain": [
       "{'bread': 60, 'butter': 125, 'chocolate': 150, 'coke': 45, 'cookies': 101}"
      ]
     },
     "execution_count": 24,
     "metadata": {},
     "output_type": "execute_result"
    }
   ],
   "source": [
    "dict(item_prices)"
   ]
  },
  {
   "cell_type": "code",
   "execution_count": 27,
   "id": "2bc32b32-71fd-4563-9ee7-7fee568a7ce5",
   "metadata": {},
   "outputs": [
    {
     "data": {
      "text/plain": [
       "[('bread', 60),\n",
       " ('butter', 125),\n",
       " ('chocolate', 150),\n",
       " ('coke', 45),\n",
       " ('cookies', 101)]"
      ]
     },
     "execution_count": 27,
     "metadata": {},
     "output_type": "execute_result"
    }
   ],
   "source": [
    "list(item_prices)"
   ]
  },
  {
   "cell_type": "code",
   "execution_count": 29,
   "id": "626e7da1-5d91-47da-82fb-9316b542c94d",
   "metadata": {},
   "outputs": [],
   "source": [
    "import MySQLdb"
   ]
  },
  {
   "cell_type": "code",
   "execution_count": 30,
   "id": "2cf4a7b9-c797-4863-8d7e-2fa5f8ae7b65",
   "metadata": {},
   "outputs": [],
   "source": [
    "dburi = 'http://localhost:3306'\n",
    "username = ''\n",
    "passwd = ''"
   ]
  },
  {
   "cell_type": "code",
   "execution_count": null,
   "id": "c2cad3ed-4434-4fba-9d38-9b0bcf2d04c3",
   "metadata": {},
   "outputs": [],
   "source": [
    "MySQLdb.connect(dburi, username, passwd)"
   ]
  },
  {
   "cell_type": "code",
   "execution_count": 31,
   "id": "81fed73e-6d61-4584-b6f5-639c1326ecc6",
   "metadata": {},
   "outputs": [],
   "source": [
    "import sqlite3"
   ]
  },
  {
   "cell_type": "code",
   "execution_count": 32,
   "id": "83348b1f-f8d5-4eae-ae42-ec2b7dbf4a09",
   "metadata": {},
   "outputs": [
    {
     "data": {
      "text/plain": [
       "<sqlite3.Connection at 0x10734ad40>"
      ]
     },
     "execution_count": 32,
     "metadata": {},
     "output_type": "execute_result"
    }
   ],
   "source": [
    "conn = sqlite3.connect('tips.db')\n",
    "conn"
   ]
  },
  {
   "cell_type": "code",
   "execution_count": 35,
   "id": "31f0ac1d-b5d6-4d09-a83a-2818a2828c17",
   "metadata": {},
   "outputs": [
    {
     "data": {
      "text/plain": [
       "<sqlite3.Cursor at 0x107267c40>"
      ]
     },
     "execution_count": 35,
     "metadata": {},
     "output_type": "execute_result"
    }
   ],
   "source": [
    "cur = conn.cursor()\n",
    "cur"
   ]
  },
  {
   "cell_type": "code",
   "execution_count": 39,
   "id": "47c48d41-ee22-4b6e-aeec-22e57d21b669",
   "metadata": {},
   "outputs": [
    {
     "data": {
      "text/plain": [
       "<sqlite3.Cursor at 0x107267c40>"
      ]
     },
     "execution_count": 39,
     "metadata": {},
     "output_type": "execute_result"
    }
   ],
   "source": [
    "cur.execute('select * from tips;')"
   ]
  },
  {
   "cell_type": "code",
   "execution_count": 37,
   "id": "64fbf7de-2f65-4a7e-94b4-3fb58d66bff7",
   "metadata": {},
   "outputs": [
    {
     "data": {
      "text/plain": [
       "[('total_bill', 'tip', 'sex', 'smoker', 'day', 'time', 'size'),\n",
       " (16.99, 1.01, 'Female', 'No', 'Sun', 'Dinner', 2),\n",
       " (10.34, 1.66, 'Male', 'No', 'Sun', 'Dinner', 3),\n",
       " (21.01, 3.5, 'Male', 'No', 'Sun', 'Dinner', 3),\n",
       " (23.68, 3.31, 'Male', 'No', 'Sun', 'Dinner', 2),\n",
       " (24.59, 3.61, 'Female', 'No', 'Sun', 'Dinner', 4),\n",
       " (25.29, 4.71, 'Male', 'No', 'Sun', 'Dinner', 4),\n",
       " (8.77, 2.0, 'Male', 'No', 'Sun', 'Dinner', 2),\n",
       " (26.88, 3.12, 'Male', 'No', 'Sun', 'Dinner', 4),\n",
       " (15.04, 1.96, 'Male', 'No', 'Sun', 'Dinner', 2),\n",
       " (14.78, 3.23, 'Male', 'No', 'Sun', 'Dinner', 2),\n",
       " (10.27, 1.71, 'Male', 'No', 'Sun', 'Dinner', 2),\n",
       " (35.26, 5.0, 'Female', 'No', 'Sun', 'Dinner', 4),\n",
       " (15.42, 1.57, 'Male', 'No', 'Sun', 'Dinner', 2),\n",
       " (18.43, 3.0, 'Male', 'No', 'Sun', 'Dinner', 4),\n",
       " (14.83, 3.02, 'Female', 'No', 'Sun', 'Dinner', 2),\n",
       " (21.58, 3.92, 'Male', 'No', 'Sun', 'Dinner', 2),\n",
       " (10.33, 1.67, 'Female', 'No', 'Sun', 'Dinner', 3),\n",
       " (16.29, 3.71, 'Male', 'No', 'Sun', 'Dinner', 3),\n",
       " (16.97, 3.5, 'Female', 'No', 'Sun', 'Dinner', 3),\n",
       " (20.65, 3.35, 'Male', 'No', 'Sat', 'Dinner', 3),\n",
       " (17.92, 4.08, 'Male', 'No', 'Sat', 'Dinner', 2),\n",
       " (20.29, 2.75, 'Female', 'No', 'Sat', 'Dinner', 2),\n",
       " (15.77, 2.23, 'Female', 'No', 'Sat', 'Dinner', 2),\n",
       " (39.42, 7.58, 'Male', 'No', 'Sat', 'Dinner', 4),\n",
       " (19.82, 3.18, 'Male', 'No', 'Sat', 'Dinner', 2),\n",
       " (17.81, 2.34, 'Male', 'No', 'Sat', 'Dinner', 4),\n",
       " (13.37, 2.0, 'Male', 'No', 'Sat', 'Dinner', 2),\n",
       " (12.69, 2.0, 'Male', 'No', 'Sat', 'Dinner', 2),\n",
       " (21.7, 4.3, 'Male', 'No', 'Sat', 'Dinner', 2),\n",
       " (19.65, 3.0, 'Female', 'No', 'Sat', 'Dinner', 2),\n",
       " (9.55, 1.45, 'Male', 'No', 'Sat', 'Dinner', 2),\n",
       " (18.35, 2.5, 'Male', 'No', 'Sat', 'Dinner', 4),\n",
       " (15.06, 3.0, 'Female', 'No', 'Sat', 'Dinner', 2),\n",
       " (20.69, 2.45, 'Female', 'No', 'Sat', 'Dinner', 4),\n",
       " (17.78, 3.27, 'Male', 'No', 'Sat', 'Dinner', 2),\n",
       " (24.06, 3.6, 'Male', 'No', 'Sat', 'Dinner', 3),\n",
       " (16.31, 2.0, 'Male', 'No', 'Sat', 'Dinner', 3),\n",
       " (16.93, 3.07, 'Female', 'No', 'Sat', 'Dinner', 3),\n",
       " (18.69, 2.31, 'Male', 'No', 'Sat', 'Dinner', 3),\n",
       " (31.27, 5.0, 'Male', 'No', 'Sat', 'Dinner', 3),\n",
       " (16.04, 2.24, 'Male', 'No', 'Sat', 'Dinner', 3),\n",
       " (17.46, 2.54, 'Male', 'No', 'Sun', 'Dinner', 2),\n",
       " (13.94, 3.06, 'Male', 'No', 'Sun', 'Dinner', 2),\n",
       " (9.68, 1.32, 'Male', 'No', 'Sun', 'Dinner', 2),\n",
       " (30.4, 5.6, 'Male', 'No', 'Sun', 'Dinner', 4),\n",
       " (18.29, 3.0, 'Male', 'No', 'Sun', 'Dinner', 2),\n",
       " (22.23, 5.0, 'Male', 'No', 'Sun', 'Dinner', 2),\n",
       " (32.4, 6.0, 'Male', 'No', 'Sun', 'Dinner', 4),\n",
       " (28.55, 2.05, 'Male', 'No', 'Sun', 'Dinner', 3),\n",
       " (18.04, 3.0, 'Male', 'No', 'Sun', 'Dinner', 2),\n",
       " (12.54, 2.5, 'Male', 'No', 'Sun', 'Dinner', 2),\n",
       " (10.29, 2.6, 'Female', 'No', 'Sun', 'Dinner', 2),\n",
       " (34.81, 5.2, 'Female', 'No', 'Sun', 'Dinner', 4),\n",
       " (9.94, 1.56, 'Male', 'No', 'Sun', 'Dinner', 2),\n",
       " (25.56, 4.34, 'Male', 'No', 'Sun', 'Dinner', 4),\n",
       " (19.49, 3.51, 'Male', 'No', 'Sun', 'Dinner', 2),\n",
       " (38.01, 3.0, 'Male', 'Yes', 'Sat', 'Dinner', 4),\n",
       " (26.41, 1.5, 'Female', 'No', 'Sat', 'Dinner', 2),\n",
       " (11.24, 1.76, 'Male', 'Yes', 'Sat', 'Dinner', 2),\n",
       " (48.27, 6.73, 'Male', 'No', 'Sat', 'Dinner', 4),\n",
       " (20.29, 3.21, 'Male', 'Yes', 'Sat', 'Dinner', 2),\n",
       " (13.81, 2.0, 'Male', 'Yes', 'Sat', 'Dinner', 2),\n",
       " (11.02, 1.98, 'Male', 'Yes', 'Sat', 'Dinner', 2),\n",
       " (18.29, 3.76, 'Male', 'Yes', 'Sat', 'Dinner', 4),\n",
       " (17.59, 2.64, 'Male', 'No', 'Sat', 'Dinner', 3),\n",
       " (20.08, 3.15, 'Male', 'No', 'Sat', 'Dinner', 3),\n",
       " (16.45, 2.47, 'Female', 'No', 'Sat', 'Dinner', 2),\n",
       " (3.07, 1.0, 'Female', 'Yes', 'Sat', 'Dinner', 1),\n",
       " (20.23, 2.01, 'Male', 'No', 'Sat', 'Dinner', 2),\n",
       " (15.01, 2.09, 'Male', 'Yes', 'Sat', 'Dinner', 2),\n",
       " (12.02, 1.97, 'Male', 'No', 'Sat', 'Dinner', 2),\n",
       " (17.07, 3.0, 'Female', 'No', 'Sat', 'Dinner', 3),\n",
       " (26.86, 3.14, 'Female', 'Yes', 'Sat', 'Dinner', 2),\n",
       " (25.28, 5.0, 'Female', 'Yes', 'Sat', 'Dinner', 2),\n",
       " (14.73, 2.2, 'Female', 'No', 'Sat', 'Dinner', 2),\n",
       " (10.51, 1.25, 'Male', 'No', 'Sat', 'Dinner', 2),\n",
       " (17.92, 3.08, 'Male', 'Yes', 'Sat', 'Dinner', 2),\n",
       " (27.2, 4.0, 'Male', 'No', 'Thur', 'Lunch', 4),\n",
       " (22.76, 3.0, 'Male', 'No', 'Thur', 'Lunch', 2),\n",
       " (17.29, 2.71, 'Male', 'No', 'Thur', 'Lunch', 2),\n",
       " (19.44, 3.0, 'Male', 'Yes', 'Thur', 'Lunch', 2),\n",
       " (16.66, 3.4, 'Male', 'No', 'Thur', 'Lunch', 2),\n",
       " (10.07, 1.83, 'Female', 'No', 'Thur', 'Lunch', 1),\n",
       " (32.68, 5.0, 'Male', 'Yes', 'Thur', 'Lunch', 2),\n",
       " (15.98, 2.03, 'Male', 'No', 'Thur', 'Lunch', 2),\n",
       " (34.83, 5.17, 'Female', 'No', 'Thur', 'Lunch', 4),\n",
       " (13.03, 2.0, 'Male', 'No', 'Thur', 'Lunch', 2),\n",
       " (18.28, 4.0, 'Male', 'No', 'Thur', 'Lunch', 2),\n",
       " (24.71, 5.85, 'Male', 'No', 'Thur', 'Lunch', 2),\n",
       " (21.16, 3.0, 'Male', 'No', 'Thur', 'Lunch', 2),\n",
       " (28.97, 3.0, 'Male', 'Yes', 'Fri', 'Dinner', 2),\n",
       " (22.49, 3.5, 'Male', 'No', 'Fri', 'Dinner', 2),\n",
       " (5.75, 1.0, 'Female', 'Yes', 'Fri', 'Dinner', 2),\n",
       " (16.32, 4.3, 'Female', 'Yes', 'Fri', 'Dinner', 2),\n",
       " (22.75, 3.25, 'Female', 'No', 'Fri', 'Dinner', 2),\n",
       " (40.17, 4.73, 'Male', 'Yes', 'Fri', 'Dinner', 4),\n",
       " (27.28, 4.0, 'Male', 'Yes', 'Fri', 'Dinner', 2),\n",
       " (12.03, 1.5, 'Male', 'Yes', 'Fri', 'Dinner', 2),\n",
       " (21.01, 3.0, 'Male', 'Yes', 'Fri', 'Dinner', 2),\n",
       " (12.46, 1.5, 'Male', 'No', 'Fri', 'Dinner', 2),\n",
       " (11.35, 2.5, 'Female', 'Yes', 'Fri', 'Dinner', 2),\n",
       " (15.38, 3.0, 'Female', 'Yes', 'Fri', 'Dinner', 2),\n",
       " (44.3, 2.5, 'Female', 'Yes', 'Sat', 'Dinner', 3),\n",
       " (22.42, 3.48, 'Female', 'Yes', 'Sat', 'Dinner', 2),\n",
       " (20.92, 4.08, 'Female', 'No', 'Sat', 'Dinner', 2),\n",
       " (15.36, 1.64, 'Male', 'Yes', 'Sat', 'Dinner', 2),\n",
       " (20.49, 4.06, 'Male', 'Yes', 'Sat', 'Dinner', 2),\n",
       " (25.21, 4.29, 'Male', 'Yes', 'Sat', 'Dinner', 2),\n",
       " (18.24, 3.76, 'Male', 'No', 'Sat', 'Dinner', 2),\n",
       " (14.31, 4.0, 'Female', 'Yes', 'Sat', 'Dinner', 2),\n",
       " (14.0, 3.0, 'Male', 'No', 'Sat', 'Dinner', 2),\n",
       " (7.25, 1.0, 'Female', 'No', 'Sat', 'Dinner', 1),\n",
       " (38.07, 4.0, 'Male', 'No', 'Sun', 'Dinner', 3),\n",
       " (23.95, 2.55, 'Male', 'No', 'Sun', 'Dinner', 2),\n",
       " (25.71, 4.0, 'Female', 'No', 'Sun', 'Dinner', 3),\n",
       " (17.31, 3.5, 'Female', 'No', 'Sun', 'Dinner', 2),\n",
       " (29.93, 5.07, 'Male', 'No', 'Sun', 'Dinner', 4),\n",
       " (10.65, 1.5, 'Female', 'No', 'Thur', 'Lunch', 2),\n",
       " (12.43, 1.8, 'Female', 'No', 'Thur', 'Lunch', 2),\n",
       " (24.08, 2.92, 'Female', 'No', 'Thur', 'Lunch', 4),\n",
       " (11.69, 2.31, 'Male', 'No', 'Thur', 'Lunch', 2),\n",
       " (13.42, 1.68, 'Female', 'No', 'Thur', 'Lunch', 2),\n",
       " (14.26, 2.5, 'Male', 'No', 'Thur', 'Lunch', 2),\n",
       " (15.95, 2.0, 'Male', 'No', 'Thur', 'Lunch', 2),\n",
       " (12.48, 2.52, 'Female', 'No', 'Thur', 'Lunch', 2),\n",
       " (29.8, 4.2, 'Female', 'No', 'Thur', 'Lunch', 6),\n",
       " (8.52, 1.48, 'Male', 'No', 'Thur', 'Lunch', 2),\n",
       " (14.52, 2.0, 'Female', 'No', 'Thur', 'Lunch', 2),\n",
       " (11.38, 2.0, 'Female', 'No', 'Thur', 'Lunch', 2),\n",
       " (22.82, 2.18, 'Male', 'No', 'Thur', 'Lunch', 3),\n",
       " (19.08, 1.5, 'Male', 'No', 'Thur', 'Lunch', 2),\n",
       " (20.27, 2.83, 'Female', 'No', 'Thur', 'Lunch', 2),\n",
       " (11.17, 1.5, 'Female', 'No', 'Thur', 'Lunch', 2),\n",
       " (12.26, 2.0, 'Female', 'No', 'Thur', 'Lunch', 2),\n",
       " (18.26, 3.25, 'Female', 'No', 'Thur', 'Lunch', 2),\n",
       " (8.51, 1.25, 'Female', 'No', 'Thur', 'Lunch', 2),\n",
       " (10.33, 2.0, 'Female', 'No', 'Thur', 'Lunch', 2),\n",
       " (14.15, 2.0, 'Female', 'No', 'Thur', 'Lunch', 2),\n",
       " (16.0, 2.0, 'Male', 'Yes', 'Thur', 'Lunch', 2),\n",
       " (13.16, 2.75, 'Female', 'No', 'Thur', 'Lunch', 2),\n",
       " (17.47, 3.5, 'Female', 'No', 'Thur', 'Lunch', 2),\n",
       " (34.3, 6.7, 'Male', 'No', 'Thur', 'Lunch', 6),\n",
       " (41.19, 5.0, 'Male', 'No', 'Thur', 'Lunch', 5),\n",
       " (27.05, 5.0, 'Female', 'No', 'Thur', 'Lunch', 6),\n",
       " (16.43, 2.3, 'Female', 'No', 'Thur', 'Lunch', 2),\n",
       " (8.35, 1.5, 'Female', 'No', 'Thur', 'Lunch', 2),\n",
       " (18.64, 1.36, 'Female', 'No', 'Thur', 'Lunch', 3),\n",
       " (11.87, 1.63, 'Female', 'No', 'Thur', 'Lunch', 2),\n",
       " (9.78, 1.73, 'Male', 'No', 'Thur', 'Lunch', 2),\n",
       " (7.51, 2.0, 'Male', 'No', 'Thur', 'Lunch', 2),\n",
       " (14.07, 2.5, 'Male', 'No', 'Sun', 'Dinner', 2),\n",
       " (13.13, 2.0, 'Male', 'No', 'Sun', 'Dinner', 2),\n",
       " (17.26, 2.74, 'Male', 'No', 'Sun', 'Dinner', 3),\n",
       " (24.55, 2.0, 'Male', 'No', 'Sun', 'Dinner', 4),\n",
       " (19.77, 2.0, 'Male', 'No', 'Sun', 'Dinner', 4),\n",
       " (29.85, 5.14, 'Female', 'No', 'Sun', 'Dinner', 5),\n",
       " (48.17, 5.0, 'Male', 'No', 'Sun', 'Dinner', 6),\n",
       " (25.0, 3.75, 'Female', 'No', 'Sun', 'Dinner', 4),\n",
       " (13.39, 2.61, 'Female', 'No', 'Sun', 'Dinner', 2),\n",
       " (16.49, 2.0, 'Male', 'No', 'Sun', 'Dinner', 4),\n",
       " (21.5, 3.5, 'Male', 'No', 'Sun', 'Dinner', 4),\n",
       " (12.66, 2.5, 'Male', 'No', 'Sun', 'Dinner', 2),\n",
       " (16.21, 2.0, 'Female', 'No', 'Sun', 'Dinner', 3),\n",
       " (13.81, 2.0, 'Male', 'No', 'Sun', 'Dinner', 2),\n",
       " (17.51, 3.0, 'Female', 'Yes', 'Sun', 'Dinner', 2),\n",
       " (24.52, 3.48, 'Male', 'No', 'Sun', 'Dinner', 3),\n",
       " (20.76, 2.24, 'Male', 'No', 'Sun', 'Dinner', 2),\n",
       " (31.71, 4.5, 'Male', 'No', 'Sun', 'Dinner', 4),\n",
       " (10.59, 1.61, 'Female', 'Yes', 'Sat', 'Dinner', 2),\n",
       " (10.63, 2.0, 'Female', 'Yes', 'Sat', 'Dinner', 2),\n",
       " (50.81, 10.0, 'Male', 'Yes', 'Sat', 'Dinner', 3),\n",
       " (15.81, 3.16, 'Male', 'Yes', 'Sat', 'Dinner', 2),\n",
       " (7.25, 5.15, 'Male', 'Yes', 'Sun', 'Dinner', 2),\n",
       " (31.85, 3.18, 'Male', 'Yes', 'Sun', 'Dinner', 2),\n",
       " (16.82, 4.0, 'Male', 'Yes', 'Sun', 'Dinner', 2),\n",
       " (32.9, 3.11, 'Male', 'Yes', 'Sun', 'Dinner', 2),\n",
       " (17.89, 2.0, 'Male', 'Yes', 'Sun', 'Dinner', 2),\n",
       " (14.48, 2.0, 'Male', 'Yes', 'Sun', 'Dinner', 2),\n",
       " (9.6, 4.0, 'Female', 'Yes', 'Sun', 'Dinner', 2),\n",
       " (34.63, 3.55, 'Male', 'Yes', 'Sun', 'Dinner', 2),\n",
       " (34.65, 3.68, 'Male', 'Yes', 'Sun', 'Dinner', 4),\n",
       " (23.33, 5.65, 'Male', 'Yes', 'Sun', 'Dinner', 2),\n",
       " (45.35, 3.5, 'Male', 'Yes', 'Sun', 'Dinner', 3),\n",
       " (23.17, 6.5, 'Male', 'Yes', 'Sun', 'Dinner', 4),\n",
       " (40.55, 3.0, 'Male', 'Yes', 'Sun', 'Dinner', 2),\n",
       " (20.69, 5.0, 'Male', 'No', 'Sun', 'Dinner', 5),\n",
       " (20.9, 3.5, 'Female', 'Yes', 'Sun', 'Dinner', 3),\n",
       " (30.46, 2.0, 'Male', 'Yes', 'Sun', 'Dinner', 5),\n",
       " (18.15, 3.5, 'Female', 'Yes', 'Sun', 'Dinner', 3),\n",
       " (23.1, 4.0, 'Male', 'Yes', 'Sun', 'Dinner', 3),\n",
       " (15.69, 1.5, 'Male', 'Yes', 'Sun', 'Dinner', 2),\n",
       " (19.81, 4.19, 'Female', 'Yes', 'Thur', 'Lunch', 2),\n",
       " (28.44, 2.56, 'Male', 'Yes', 'Thur', 'Lunch', 2),\n",
       " (15.48, 2.02, 'Male', 'Yes', 'Thur', 'Lunch', 2),\n",
       " (16.58, 4.0, 'Male', 'Yes', 'Thur', 'Lunch', 2),\n",
       " (7.56, 1.44, 'Male', 'No', 'Thur', 'Lunch', 2),\n",
       " (10.34, 2.0, 'Male', 'Yes', 'Thur', 'Lunch', 2),\n",
       " (43.11, 5.0, 'Female', 'Yes', 'Thur', 'Lunch', 4),\n",
       " (13.0, 2.0, 'Female', 'Yes', 'Thur', 'Lunch', 2),\n",
       " (13.51, 2.0, 'Male', 'Yes', 'Thur', 'Lunch', 2),\n",
       " (18.71, 4.0, 'Male', 'Yes', 'Thur', 'Lunch', 3),\n",
       " (12.74, 2.01, 'Female', 'Yes', 'Thur', 'Lunch', 2),\n",
       " (13.0, 2.0, 'Female', 'Yes', 'Thur', 'Lunch', 2),\n",
       " (16.4, 2.5, 'Female', 'Yes', 'Thur', 'Lunch', 2),\n",
       " (20.53, 4.0, 'Male', 'Yes', 'Thur', 'Lunch', 4),\n",
       " (16.47, 3.23, 'Female', 'Yes', 'Thur', 'Lunch', 3),\n",
       " (26.59, 3.41, 'Male', 'Yes', 'Sat', 'Dinner', 3),\n",
       " (38.73, 3.0, 'Male', 'Yes', 'Sat', 'Dinner', 4),\n",
       " (24.27, 2.03, 'Male', 'Yes', 'Sat', 'Dinner', 2),\n",
       " (12.76, 2.23, 'Female', 'Yes', 'Sat', 'Dinner', 2),\n",
       " (30.06, 2.0, 'Male', 'Yes', 'Sat', 'Dinner', 3),\n",
       " (25.89, 5.16, 'Male', 'Yes', 'Sat', 'Dinner', 4),\n",
       " (48.33, 9.0, 'Male', 'No', 'Sat', 'Dinner', 4),\n",
       " (13.27, 2.5, 'Female', 'Yes', 'Sat', 'Dinner', 2),\n",
       " (28.17, 6.5, 'Female', 'Yes', 'Sat', 'Dinner', 3),\n",
       " (12.9, 1.1, 'Female', 'Yes', 'Sat', 'Dinner', 2),\n",
       " (28.15, 3.0, 'Male', 'Yes', 'Sat', 'Dinner', 5),\n",
       " (11.59, 1.5, 'Male', 'Yes', 'Sat', 'Dinner', 2),\n",
       " (7.74, 1.44, 'Male', 'Yes', 'Sat', 'Dinner', 2),\n",
       " (30.14, 3.09, 'Female', 'Yes', 'Sat', 'Dinner', 4),\n",
       " (12.16, 2.2, 'Male', 'Yes', 'Fri', 'Lunch', 2),\n",
       " (13.42, 3.48, 'Female', 'Yes', 'Fri', 'Lunch', 2),\n",
       " (8.58, 1.92, 'Male', 'Yes', 'Fri', 'Lunch', 1),\n",
       " (15.98, 3.0, 'Female', 'No', 'Fri', 'Lunch', 3),\n",
       " (13.42, 1.58, 'Male', 'Yes', 'Fri', 'Lunch', 2),\n",
       " (16.27, 2.5, 'Female', 'Yes', 'Fri', 'Lunch', 2),\n",
       " (10.09, 2.0, 'Female', 'Yes', 'Fri', 'Lunch', 2),\n",
       " (20.45, 3.0, 'Male', 'No', 'Sat', 'Dinner', 4),\n",
       " (13.28, 2.72, 'Male', 'No', 'Sat', 'Dinner', 2),\n",
       " (22.12, 2.88, 'Female', 'Yes', 'Sat', 'Dinner', 2),\n",
       " (24.01, 2.0, 'Male', 'Yes', 'Sat', 'Dinner', 4),\n",
       " (15.69, 3.0, 'Male', 'Yes', 'Sat', 'Dinner', 3),\n",
       " (11.61, 3.39, 'Male', 'No', 'Sat', 'Dinner', 2),\n",
       " (10.77, 1.47, 'Male', 'No', 'Sat', 'Dinner', 2),\n",
       " (15.53, 3.0, 'Male', 'Yes', 'Sat', 'Dinner', 2),\n",
       " (10.07, 1.25, 'Male', 'No', 'Sat', 'Dinner', 2),\n",
       " (12.6, 1.0, 'Male', 'Yes', 'Sat', 'Dinner', 2),\n",
       " (32.83, 1.17, 'Male', 'Yes', 'Sat', 'Dinner', 2),\n",
       " (35.83, 4.67, 'Female', 'No', 'Sat', 'Dinner', 3),\n",
       " (29.03, 5.92, 'Male', 'No', 'Sat', 'Dinner', 3),\n",
       " (27.18, 2.0, 'Female', 'Yes', 'Sat', 'Dinner', 2),\n",
       " (22.67, 2.0, 'Male', 'Yes', 'Sat', 'Dinner', 2),\n",
       " (17.82, 1.75, 'Male', 'No', 'Sat', 'Dinner', 2),\n",
       " (18.78, 3.0, 'Female', 'No', 'Thur', 'Dinner', 2)]"
      ]
     },
     "execution_count": 37,
     "metadata": {},
     "output_type": "execute_result"
    }
   ],
   "source": [
    "cur.fetchall()"
   ]
  },
  {
   "cell_type": "code",
   "execution_count": 38,
   "id": "d619eab3-b4cb-4517-8971-b95c73ae6864",
   "metadata": {},
   "outputs": [
    {
     "data": {
      "text/plain": [
       "[]"
      ]
     },
     "execution_count": 38,
     "metadata": {},
     "output_type": "execute_result"
    }
   ],
   "source": [
    "cur.fetchall()"
   ]
  },
  {
   "cell_type": "code",
   "execution_count": 45,
   "id": "85f3f176-44a1-4c0e-8185-46c601952300",
   "metadata": {},
   "outputs": [
    {
     "data": {
      "text/plain": [
       "(24.59, 3.61, 'Female', 'No', 'Sun', 'Dinner', 4)"
      ]
     },
     "execution_count": 45,
     "metadata": {},
     "output_type": "execute_result"
    }
   ],
   "source": [
    "cur.fetchone()"
   ]
  },
  {
   "cell_type": "code",
   "execution_count": 46,
   "id": "b43b3b47-6caa-4774-88a5-9c563e1d5d20",
   "metadata": {},
   "outputs": [
    {
     "data": {
      "text/plain": [
       "[(25.29, 4.71, 'Male', 'No', 'Sun', 'Dinner', 4),\n",
       " (8.77, 2.0, 'Male', 'No', 'Sun', 'Dinner', 2),\n",
       " (26.88, 3.12, 'Male', 'No', 'Sun', 'Dinner', 4),\n",
       " (15.04, 1.96, 'Male', 'No', 'Sun', 'Dinner', 2),\n",
       " (14.78, 3.23, 'Male', 'No', 'Sun', 'Dinner', 2),\n",
       " (10.27, 1.71, 'Male', 'No', 'Sun', 'Dinner', 2),\n",
       " (35.26, 5.0, 'Female', 'No', 'Sun', 'Dinner', 4),\n",
       " (15.42, 1.57, 'Male', 'No', 'Sun', 'Dinner', 2),\n",
       " (18.43, 3.0, 'Male', 'No', 'Sun', 'Dinner', 4),\n",
       " (14.83, 3.02, 'Female', 'No', 'Sun', 'Dinner', 2)]"
      ]
     },
     "execution_count": 46,
     "metadata": {},
     "output_type": "execute_result"
    }
   ],
   "source": [
    "cur.fetchmany(10)"
   ]
  },
  {
   "cell_type": "code",
   "execution_count": null,
   "id": "af82edc4-807a-4510-b5eb-02491df45b60",
   "metadata": {},
   "outputs": [],
   "source": [
    "rows_returned = cur.fetchall()\n",
    "\n",
    "for row in rows_returned:\n",
    "    print(row)"
   ]
  },
  {
   "cell_type": "code",
   "execution_count": 54,
   "id": "830a71a1-5872-487d-bfe3-5a5cac5f6cb6",
   "metadata": {},
   "outputs": [
    {
     "name": "stdout",
     "output_type": "stream",
     "text": [
      "tip\n",
      "1.01\n",
      "1.66\n",
      "3.5\n",
      "3.31\n",
      "3.61\n",
      "4.71\n",
      "2.0\n",
      "3.12\n",
      "1.96\n",
      "3.23\n",
      "1.71\n",
      "5.0\n",
      "1.57\n",
      "3.0\n",
      "3.02\n",
      "3.92\n",
      "1.67\n",
      "3.71\n",
      "3.5\n",
      "3.35\n",
      "4.08\n",
      "2.75\n",
      "2.23\n",
      "7.58\n",
      "3.18\n",
      "2.34\n",
      "2.0\n",
      "2.0\n",
      "4.3\n",
      "3.0\n",
      "1.45\n",
      "2.5\n",
      "3.0\n",
      "2.45\n",
      "3.27\n",
      "3.6\n",
      "2.0\n",
      "3.07\n",
      "2.31\n",
      "5.0\n",
      "2.24\n",
      "2.54\n",
      "3.06\n",
      "1.32\n",
      "5.6\n",
      "3.0\n",
      "5.0\n",
      "6.0\n",
      "2.05\n",
      "3.0\n",
      "2.5\n",
      "2.6\n",
      "5.2\n",
      "1.56\n",
      "4.34\n",
      "3.51\n",
      "3.0\n",
      "1.5\n",
      "1.76\n",
      "6.73\n",
      "3.21\n",
      "2.0\n",
      "1.98\n",
      "3.76\n",
      "2.64\n",
      "3.15\n",
      "2.47\n",
      "1.0\n",
      "2.01\n",
      "2.09\n",
      "1.97\n",
      "3.0\n",
      "3.14\n",
      "5.0\n",
      "2.2\n",
      "1.25\n",
      "3.08\n",
      "4.0\n",
      "3.0\n",
      "2.71\n",
      "3.0\n",
      "3.4\n",
      "1.83\n",
      "5.0\n",
      "2.03\n",
      "5.17\n",
      "2.0\n",
      "4.0\n",
      "5.85\n",
      "3.0\n",
      "3.0\n",
      "3.5\n",
      "1.0\n",
      "4.3\n",
      "3.25\n",
      "4.73\n",
      "4.0\n",
      "1.5\n",
      "3.0\n",
      "1.5\n",
      "2.5\n",
      "3.0\n",
      "2.5\n",
      "3.48\n",
      "4.08\n",
      "1.64\n",
      "4.06\n",
      "4.29\n",
      "3.76\n",
      "4.0\n",
      "3.0\n",
      "1.0\n",
      "4.0\n",
      "2.55\n",
      "4.0\n",
      "3.5\n",
      "5.07\n",
      "1.5\n",
      "1.8\n",
      "2.92\n",
      "2.31\n",
      "1.68\n",
      "2.5\n",
      "2.0\n",
      "2.52\n",
      "4.2\n",
      "1.48\n",
      "2.0\n",
      "2.0\n",
      "2.18\n",
      "1.5\n",
      "2.83\n",
      "1.5\n",
      "2.0\n",
      "3.25\n",
      "1.25\n",
      "2.0\n",
      "2.0\n",
      "2.0\n",
      "2.75\n",
      "3.5\n",
      "6.7\n",
      "5.0\n",
      "5.0\n",
      "2.3\n",
      "1.5\n",
      "1.36\n",
      "1.63\n",
      "1.73\n",
      "2.0\n",
      "2.5\n",
      "2.0\n",
      "2.74\n",
      "2.0\n",
      "2.0\n",
      "5.14\n",
      "5.0\n",
      "3.75\n",
      "2.61\n",
      "2.0\n",
      "3.5\n",
      "2.5\n",
      "2.0\n",
      "2.0\n",
      "3.0\n",
      "3.48\n",
      "2.24\n",
      "4.5\n",
      "1.61\n",
      "2.0\n",
      "10.0\n",
      "3.16\n",
      "5.15\n",
      "3.18\n",
      "4.0\n",
      "3.11\n",
      "2.0\n",
      "2.0\n",
      "4.0\n",
      "3.55\n",
      "3.68\n",
      "5.65\n",
      "3.5\n",
      "6.5\n",
      "3.0\n",
      "5.0\n",
      "3.5\n",
      "2.0\n",
      "3.5\n",
      "4.0\n",
      "1.5\n",
      "4.19\n",
      "2.56\n",
      "2.02\n",
      "4.0\n",
      "1.44\n",
      "2.0\n",
      "5.0\n",
      "2.0\n",
      "2.0\n",
      "4.0\n",
      "2.01\n",
      "2.0\n",
      "2.5\n",
      "4.0\n",
      "3.23\n",
      "3.41\n",
      "3.0\n",
      "2.03\n",
      "2.23\n",
      "2.0\n",
      "5.16\n",
      "9.0\n",
      "2.5\n",
      "6.5\n",
      "1.1\n",
      "3.0\n",
      "1.5\n",
      "1.44\n",
      "3.09\n",
      "2.2\n",
      "3.48\n",
      "1.92\n",
      "3.0\n",
      "1.58\n",
      "2.5\n",
      "2.0\n",
      "3.0\n",
      "2.72\n",
      "2.88\n",
      "2.0\n",
      "3.0\n",
      "3.39\n",
      "1.47\n",
      "3.0\n",
      "1.25\n",
      "1.0\n",
      "1.17\n",
      "4.67\n",
      "5.92\n",
      "2.0\n",
      "2.0\n",
      "1.75\n",
      "3.0\n"
     ]
    }
   ],
   "source": [
    "cur.execute('select * from tips;')\n",
    "\n",
    "for row in cur:\n",
    "    print(row[1])"
   ]
  },
  {
   "cell_type": "code",
   "execution_count": 52,
   "id": "2438b27d-0358-4184-96f6-4ab22eef2821",
   "metadata": {},
   "outputs": [],
   "source": [
    "row = (16.99, 1.01, 'Female', 'No', 'Sun', 'Dinner', 2)"
   ]
  },
  {
   "cell_type": "code",
   "execution_count": 53,
   "id": "860522a8-e923-4bfc-9915-9657234ef79a",
   "metadata": {},
   "outputs": [
    {
     "data": {
      "text/plain": [
       "1.01"
      ]
     },
     "execution_count": 53,
     "metadata": {},
     "output_type": "execute_result"
    }
   ],
   "source": [
    "row[1]"
   ]
  },
  {
   "cell_type": "code",
   "execution_count": 1,
   "id": "0031e30a-ea63-43de-9c58-662de9e8e336",
   "metadata": {},
   "outputs": [
    {
     "name": "stderr",
     "output_type": "stream",
     "text": [
      "25/05/16 14:22:47 WARN HeartbeatReceiver: Removing executor driver with no recent heartbeats: 909307 ms exceeds timeout 120000 ms\n",
      "25/05/16 14:22:47 WARN SparkContext: Killing executors is not supported by current scheduler.\n"
     ]
    }
   ],
   "source": [
    "import pandas as pd"
   ]
  },
  {
   "cell_type": "code",
   "execution_count": null,
   "id": "c0d9261d-009b-4aad-a25f-f08209e69290",
   "metadata": {},
   "outputs": [],
   "source": []
  },
  {
   "cell_type": "code",
   "execution_count": null,
   "id": "1e23d4b2-8a1c-4447-9710-6f9d0fc0218d",
   "metadata": {},
   "outputs": [],
   "source": []
  },
  {
   "cell_type": "code",
   "execution_count": null,
   "id": "3d16dac3-2193-45d4-a529-f0a941fc3ae8",
   "metadata": {},
   "outputs": [],
   "source": []
  },
  {
   "cell_type": "code",
   "execution_count": null,
   "id": "f0821dcb-4c12-4205-9eee-b6f7fe5d1c3a",
   "metadata": {},
   "outputs": [],
   "source": []
  }
 ],
 "metadata": {
  "kernelspec": {
   "display_name": "Python 3 (ipykernel)",
   "language": "python",
   "name": "python3"
  },
  "language_info": {
   "codemirror_mode": {
    "name": "ipython",
    "version": 3
   },
   "file_extension": ".py",
   "mimetype": "text/x-python",
   "name": "python",
   "nbconvert_exporter": "python",
   "pygments_lexer": "ipython3",
   "version": "3.11.0"
  }
 },
 "nbformat": 4,
 "nbformat_minor": 5
}
