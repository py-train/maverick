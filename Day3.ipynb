{
 "cells": [
  {
   "cell_type": "markdown",
   "id": "d0462058-3e8e-4c7f-a43e-1496741270c6",
   "metadata": {},
   "source": [
    "## Day3: Agenda\n",
    "\n",
    "- Regular Expressions\n",
    "- JSON\n",
    "- Date Time\n",
    "- Hive\n",
    "    - Architecture\n",
    "    - ORC/Parquet/AVRO\n",
    "    - optimizations"
   ]
  },
  {
   "cell_type": "code",
   "execution_count": 7,
   "id": "ae03eddd-fa9c-4d08-8e4e-62e8af5538f6",
   "metadata": {},
   "outputs": [],
   "source": [
    "sentence = '''My house number is E 1201, on 1st street.\n",
    "My phone: 9999988888\n",
    "My mail: abc@xyz.com'''"
   ]
  },
  {
   "cell_type": "code",
   "execution_count": 3,
   "id": "02001354-440c-4424-be42-549200629c27",
   "metadata": {},
   "outputs": [
    {
     "data": {
      "text/plain": [
       "False"
      ]
     },
     "execution_count": 3,
     "metadata": {},
     "output_type": "execute_result"
    }
   ],
   "source": [
    "'1st'.isdigit()"
   ]
  },
  {
   "cell_type": "code",
   "execution_count": 5,
   "id": "6a03fd2e-43e7-4f26-a8c6-8ca18fcf3d12",
   "metadata": {},
   "outputs": [
    {
     "data": {
      "text/plain": [
       "['My',\n",
       " 'house',\n",
       " 'number',\n",
       " 'is',\n",
       " 'E',\n",
       " '1201,',\n",
       " 'on',\n",
       " '1st',\n",
       " 'street.',\n",
       " 'My',\n",
       " 'phone:',\n",
       " '9999988888']"
      ]
     },
     "execution_count": 5,
     "metadata": {},
     "output_type": "execute_result"
    }
   ],
   "source": [
    "sentence.split()"
   ]
  },
  {
   "cell_type": "code",
   "execution_count": 4,
   "id": "59fb7828-2ec1-48f0-a2b8-4cb77852938e",
   "metadata": {},
   "outputs": [
    {
     "name": "stdout",
     "output_type": "stream",
     "text": [
      "9999988888\n"
     ]
    }
   ],
   "source": [
    "for word in sentence.split():\n",
    "    if word.isdigit():\n",
    "        print(word)"
   ]
  },
  {
   "cell_type": "code",
   "execution_count": 8,
   "id": "eee5cbb7-b2f5-4627-8ad8-7ac6b353c127",
   "metadata": {},
   "outputs": [],
   "source": [
    "import re"
   ]
  },
  {
   "cell_type": "code",
   "execution_count": 10,
   "id": "71d51237-fd17-4cae-8938-fb07f26ec82c",
   "metadata": {},
   "outputs": [
    {
     "data": {
      "text/plain": [
       "['1201', '1', '9999988888']"
      ]
     },
     "execution_count": 10,
     "metadata": {},
     "output_type": "execute_result"
    }
   ],
   "source": [
    "numpattern = '\\d+'    # digit\n",
    "re.findall(numpattern, sentence)"
   ]
  },
  {
   "cell_type": "code",
   "execution_count": 28,
   "id": "b0f7bd0c-74d2-487e-a50a-0cf4eb14a7d9",
   "metadata": {},
   "outputs": [
    {
     "data": {
      "text/plain": [
       "[('abc', 'xyz')]"
      ]
     },
     "execution_count": 28,
     "metadata": {},
     "output_type": "execute_result"
    }
   ],
   "source": [
    "#         user @ domain [.] extension\n",
    "mailpattern = r'(\\w+)@(\\w+)\\.\\w+'       # [A-Za-z0-9_]\n",
    "re.findall(mailpattern, sentence)"
   ]
  },
  {
   "cell_type": "code",
   "execution_count": null,
   "id": "39e5d29b-7519-443e-ba1d-0cb5ff702169",
   "metadata": {},
   "outputs": [],
   "source": []
  },
  {
   "cell_type": "code",
   "execution_count": 13,
   "id": "0b304c8a-3992-4e1a-8ea0-dd4f735340a4",
   "metadata": {},
   "outputs": [
    {
     "data": {
      "text/html": [
       "\n",
       "            <div>\n",
       "                <p><b>SparkSession - hive</b></p>\n",
       "                \n",
       "        <div>\n",
       "            <p><b>SparkContext</b></p>\n",
       "\n",
       "            <p><a href=\"http://192.168.1.11:4046\">Spark UI</a></p>\n",
       "\n",
       "            <dl>\n",
       "              <dt>Version</dt>\n",
       "                <dd><code>v3.1.2</code></dd>\n",
       "              <dt>Master</dt>\n",
       "                <dd><code>local[*]</code></dd>\n",
       "              <dt>AppName</dt>\n",
       "                <dd><code>PySparkShell</code></dd>\n",
       "            </dl>\n",
       "        </div>\n",
       "        \n",
       "            </div>\n",
       "        "
      ],
      "text/plain": [
       "<pyspark.sql.session.SparkSession at 0x106f84350>"
      ]
     },
     "execution_count": 13,
     "metadata": {},
     "output_type": "execute_result"
    }
   ],
   "source": [
    "spark"
   ]
  },
  {
   "cell_type": "code",
   "execution_count": 15,
   "id": "a722ae4c-8f97-481c-9e29-88ee00ffc35c",
   "metadata": {},
   "outputs": [
    {
     "data": {
      "text/plain": [
       "DataFrame[mpg: string, cylinders: string, displacement: string, horsepower: string, weight: string, acceleration: string, model_year: string, origin: string, name: string]"
      ]
     },
     "execution_count": 15,
     "metadata": {},
     "output_type": "execute_result"
    }
   ],
   "source": [
    "mpg = spark.read.csv('mpg.csv', header=True)\n",
    "mpg"
   ]
  },
  {
   "cell_type": "code",
   "execution_count": 16,
   "id": "2c3029ea-b883-4217-87e7-4cea536999ba",
   "metadata": {},
   "outputs": [
    {
     "name": "stdout",
     "output_type": "stream",
     "text": [
      "+----+---------+------------+----------+------+------------+----------+------+--------------------+\n",
      "| mpg|cylinders|displacement|horsepower|weight|acceleration|model_year|origin|                name|\n",
      "+----+---------+------------+----------+------+------------+----------+------+--------------------+\n",
      "|18.0|        8|       307.0|     130.0|  3504|        12.0|        70|   usa|chevrolet chevell...|\n",
      "|15.0|        8|       350.0|     165.0|  3693|        11.5|        70|   usa|   buick skylark 320|\n",
      "|18.0|        8|       318.0|     150.0|  3436|        11.0|        70|   usa|  plymouth satellite|\n",
      "|16.0|        8|       304.0|     150.0|  3433|        12.0|        70|   usa|       amc rebel sst|\n",
      "|17.0|        8|       302.0|     140.0|  3449|        10.5|        70|   usa|         ford torino|\n",
      "|15.0|        8|       429.0|     198.0|  4341|        10.0|        70|   usa|    ford galaxie 500|\n",
      "|14.0|        8|       454.0|     220.0|  4354|         9.0|        70|   usa|    chevrolet impala|\n",
      "|14.0|        8|       440.0|     215.0|  4312|         8.5|        70|   usa|   plymouth fury iii|\n",
      "|14.0|        8|       455.0|     225.0|  4425|        10.0|        70|   usa|    pontiac catalina|\n",
      "|15.0|        8|       390.0|     190.0|  3850|         8.5|        70|   usa|  amc ambassador dpl|\n",
      "|15.0|        8|       383.0|     170.0|  3563|        10.0|        70|   usa| dodge challenger se|\n",
      "|14.0|        8|       340.0|     160.0|  3609|         8.0|        70|   usa|  plymouth 'cuda 340|\n",
      "|15.0|        8|       400.0|     150.0|  3761|         9.5|        70|   usa|chevrolet monte c...|\n",
      "|14.0|        8|       455.0|     225.0|  3086|        10.0|        70|   usa|buick estate wago...|\n",
      "|24.0|        4|       113.0|      95.0|  2372|        15.0|        70| japan|toyota corona mar...|\n",
      "|22.0|        6|       198.0|      95.0|  2833|        15.5|        70|   usa|     plymouth duster|\n",
      "|18.0|        6|       199.0|      97.0|  2774|        15.5|        70|   usa|          amc hornet|\n",
      "|21.0|        6|       200.0|      85.0|  2587|        16.0|        70|   usa|       ford maverick|\n",
      "|27.0|        4|        97.0|      88.0|  2130|        14.5|        70| japan|        datsun pl510|\n",
      "|26.0|        4|        97.0|      46.0|  1835|        20.5|        70|europe|volkswagen 1131 d...|\n",
      "+----+---------+------------+----------+------+------------+----------+------+--------------------+\n",
      "only showing top 20 rows\n",
      "\n"
     ]
    }
   ],
   "source": [
    "mpg.show()"
   ]
  },
  {
   "cell_type": "code",
   "execution_count": 19,
   "id": "02c7b2d0-6e2d-468b-beb9-9a1d7fcc0442",
   "metadata": {},
   "outputs": [
    {
     "name": "stdout",
     "output_type": "stream",
     "text": [
      "+------+-----+\n",
      "|origin|count|\n",
      "+------+-----+\n",
      "| japan|   79|\n",
      "|europe|   70|\n",
      "|   usa|  249|\n",
      "+------+-----+\n",
      "\n"
     ]
    }
   ],
   "source": [
    "mpg.groupby('origin').count().show()"
   ]
  },
  {
   "cell_type": "code",
   "execution_count": 20,
   "id": "b7033dc3-e734-46ee-9f1d-9002b8f70b8c",
   "metadata": {},
   "outputs": [
    {
     "name": "stdout",
     "output_type": "stream",
     "text": [
      "+--------------------+\n",
      "|                name|\n",
      "+--------------------+\n",
      "|chevrolet chevell...|\n",
      "|   buick skylark 320|\n",
      "|  plymouth satellite|\n",
      "|       amc rebel sst|\n",
      "|         ford torino|\n",
      "|    ford galaxie 500|\n",
      "|    chevrolet impala|\n",
      "|   plymouth fury iii|\n",
      "|    pontiac catalina|\n",
      "|  amc ambassador dpl|\n",
      "| dodge challenger se|\n",
      "|  plymouth 'cuda 340|\n",
      "|chevrolet monte c...|\n",
      "|buick estate wago...|\n",
      "|toyota corona mar...|\n",
      "|     plymouth duster|\n",
      "|          amc hornet|\n",
      "|       ford maverick|\n",
      "|        datsun pl510|\n",
      "|volkswagen 1131 d...|\n",
      "+--------------------+\n",
      "only showing top 20 rows\n",
      "\n"
     ]
    }
   ],
   "source": [
    "mpg.select('name').show()"
   ]
  },
  {
   "cell_type": "code",
   "execution_count": 21,
   "id": "c3c63828-3f6e-41df-80ca-c4f41309b357",
   "metadata": {},
   "outputs": [],
   "source": [
    "import pyspark.sql.functions as F"
   ]
  },
  {
   "cell_type": "code",
   "execution_count": 29,
   "id": "62ddf940-296b-466b-9644-b5bd191df5b7",
   "metadata": {},
   "outputs": [
    {
     "name": "stdout",
     "output_type": "stream",
     "text": [
      "+----------+\n",
      "|     maker|\n",
      "+----------+\n",
      "| chevrolet|\n",
      "|     buick|\n",
      "|  plymouth|\n",
      "|       amc|\n",
      "|      ford|\n",
      "|      ford|\n",
      "| chevrolet|\n",
      "|  plymouth|\n",
      "|   pontiac|\n",
      "|       amc|\n",
      "|     dodge|\n",
      "|  plymouth|\n",
      "| chevrolet|\n",
      "|     buick|\n",
      "|    toyota|\n",
      "|  plymouth|\n",
      "|       amc|\n",
      "|      ford|\n",
      "|    datsun|\n",
      "|volkswagen|\n",
      "+----------+\n",
      "only showing top 20 rows\n",
      "\n"
     ]
    }
   ],
   "source": [
    "#                                   column  pattern+group  group-id\n",
    "maker = mpg.select(F.regexp_extract('name', r'(\\w+) (.*)', 1).alias('maker'))\n",
    "maker.show()"
   ]
  },
  {
   "cell_type": "code",
   "execution_count": 25,
   "id": "1754614b-9722-4042-a3e3-c54efd3ddba2",
   "metadata": {},
   "outputs": [
    {
     "name": "stdout",
     "output_type": "stream",
     "text": [
      "+---------+-----+\n",
      "|    maker|count|\n",
      "+---------+-----+\n",
      "|    buick|   17|\n",
      "|  pontiac|   16|\n",
      "| mercedes|    3|\n",
      "|   toyota|   25|\n",
      "|     saab|    4|\n",
      "|      amc|   28|\n",
      "|       vw|    6|\n",
      "|  peugeot|    8|\n",
      "| chrysler|    6|\n",
      "| plymouth|   31|\n",
      "|vokswagen|    1|\n",
      "|    chevy|    3|\n",
      "|     audi|    7|\n",
      "|   datsun|   23|\n",
      "|      bmw|    2|\n",
      "|    dodge|   28|\n",
      "|     ford|   51|\n",
      "|  toyouta|    1|\n",
      "|    capri|    1|\n",
      "| cadillac|    2|\n",
      "+---------+-----+\n",
      "only showing top 20 rows\n",
      "\n"
     ]
    }
   ],
   "source": [
    "maker.groupby('maker').count().show()"
   ]
  },
  {
   "cell_type": "code",
   "execution_count": 30,
   "id": "7dac8ee2-ad8c-478a-8f3e-33f120213ff5",
   "metadata": {},
   "outputs": [
    {
     "name": "stdout",
     "output_type": "stream",
     "text": [
      "+----+---------+------------+----------+------+------------+----------+------+--------------------+----------+\n",
      "| mpg|cylinders|displacement|horsepower|weight|acceleration|model_year|origin|                name|     maker|\n",
      "+----+---------+------------+----------+------+------------+----------+------+--------------------+----------+\n",
      "|18.0|        8|       307.0|     130.0|  3504|        12.0|        70|   usa|chevrolet chevell...| chevrolet|\n",
      "|15.0|        8|       350.0|     165.0|  3693|        11.5|        70|   usa|   buick skylark 320|     buick|\n",
      "|18.0|        8|       318.0|     150.0|  3436|        11.0|        70|   usa|  plymouth satellite|  plymouth|\n",
      "|16.0|        8|       304.0|     150.0|  3433|        12.0|        70|   usa|       amc rebel sst|       amc|\n",
      "|17.0|        8|       302.0|     140.0|  3449|        10.5|        70|   usa|         ford torino|      ford|\n",
      "|15.0|        8|       429.0|     198.0|  4341|        10.0|        70|   usa|    ford galaxie 500|      ford|\n",
      "|14.0|        8|       454.0|     220.0|  4354|         9.0|        70|   usa|    chevrolet impala| chevrolet|\n",
      "|14.0|        8|       440.0|     215.0|  4312|         8.5|        70|   usa|   plymouth fury iii|  plymouth|\n",
      "|14.0|        8|       455.0|     225.0|  4425|        10.0|        70|   usa|    pontiac catalina|   pontiac|\n",
      "|15.0|        8|       390.0|     190.0|  3850|         8.5|        70|   usa|  amc ambassador dpl|       amc|\n",
      "|15.0|        8|       383.0|     170.0|  3563|        10.0|        70|   usa| dodge challenger se|     dodge|\n",
      "|14.0|        8|       340.0|     160.0|  3609|         8.0|        70|   usa|  plymouth 'cuda 340|  plymouth|\n",
      "|15.0|        8|       400.0|     150.0|  3761|         9.5|        70|   usa|chevrolet monte c...| chevrolet|\n",
      "|14.0|        8|       455.0|     225.0|  3086|        10.0|        70|   usa|buick estate wago...|     buick|\n",
      "|24.0|        4|       113.0|      95.0|  2372|        15.0|        70| japan|toyota corona mar...|    toyota|\n",
      "|22.0|        6|       198.0|      95.0|  2833|        15.5|        70|   usa|     plymouth duster|  plymouth|\n",
      "|18.0|        6|       199.0|      97.0|  2774|        15.5|        70|   usa|          amc hornet|       amc|\n",
      "|21.0|        6|       200.0|      85.0|  2587|        16.0|        70|   usa|       ford maverick|      ford|\n",
      "|27.0|        4|        97.0|      88.0|  2130|        14.5|        70| japan|        datsun pl510|    datsun|\n",
      "|26.0|        4|        97.0|      46.0|  1835|        20.5|        70|europe|volkswagen 1131 d...|volkswagen|\n",
      "+----+---------+------------+----------+------+------------+----------+------+--------------------+----------+\n",
      "only showing top 20 rows\n",
      "\n"
     ]
    }
   ],
   "source": [
    "withmaker = mpg.withColumn('maker', F.regexp_extract('name', r'(\\w+) (.*)', 1))\n",
    "withmaker.show()"
   ]
  },
  {
   "cell_type": "code",
   "execution_count": 31,
   "id": "3d82b7bb-6ef5-4027-acac-fb683c7be992",
   "metadata": {},
   "outputs": [
    {
     "name": "stdout",
     "output_type": "stream",
     "text": [
      "+---------------------------+\n",
      "|concat_ws( , maker, origin)|\n",
      "+---------------------------+\n",
      "|              chevrolet usa|\n",
      "|                  buick usa|\n",
      "|               plymouth usa|\n",
      "|                    amc usa|\n",
      "|                   ford usa|\n",
      "|                   ford usa|\n",
      "|              chevrolet usa|\n",
      "|               plymouth usa|\n",
      "|                pontiac usa|\n",
      "|                    amc usa|\n",
      "|                  dodge usa|\n",
      "|               plymouth usa|\n",
      "|              chevrolet usa|\n",
      "|                  buick usa|\n",
      "|               toyota japan|\n",
      "|               plymouth usa|\n",
      "|                    amc usa|\n",
      "|                   ford usa|\n",
      "|               datsun japan|\n",
      "|          volkswagen europe|\n",
      "+---------------------------+\n",
      "only showing top 20 rows\n",
      "\n"
     ]
    }
   ],
   "source": [
    "withmaker.select(F.concat_ws(' ', 'maker', 'origin')).show()"
   ]
  },
  {
   "cell_type": "markdown",
   "id": "6bc537fe-e04f-4e0c-b55f-a4a05cd1da46",
   "metadata": {},
   "source": [
    "## Date time operations"
   ]
  },
  {
   "cell_type": "code",
   "execution_count": 32,
   "id": "1d5ef3d2-f155-437e-8525-362a9a9b7fb5",
   "metadata": {},
   "outputs": [
    {
     "name": "stdout",
     "output_type": "stream",
     "text": [
      "+------+--------------+----------+----------+--------------+-----------+------------------+-----------+-------------+---------------+--------------+-----------+-------+---------------+---------------+------------+--------------------+--------+\n",
      "|Row ID|      Order ID|Order Date| Ship Date|     Ship Mode|Customer ID|     Customer Name|    Segment|      Country|           City|         State|Postal Code| Region|     Product ID|       Category|Sub-Category|        Product Name|   Sales|\n",
      "+------+--------------+----------+----------+--------------+-----------+------------------+-----------+-------------+---------------+--------------+-----------+-------+---------------+---------------+------------+--------------------+--------+\n",
      "|     1|CA-2017-152156|08/11/2017|11/11/2017|  Second Class|   CG-12520|       Claire Gute|   Consumer|United States|      Henderson|      Kentucky|      42420|  South|FUR-BO-10001798|      Furniture|   Bookcases|Bush Somerset Col...|  261.96|\n",
      "|     2|CA-2017-152156|08/11/2017|11/11/2017|  Second Class|   CG-12520|       Claire Gute|   Consumer|United States|      Henderson|      Kentucky|      42420|  South|FUR-CH-10000454|      Furniture|      Chairs|Hon Deluxe Fabric...|  731.94|\n",
      "|     3|CA-2017-138688|12/06/2017|16/06/2017|  Second Class|   DV-13045|   Darrin Van Huff|  Corporate|United States|    Los Angeles|    California|      90036|   West|OFF-LA-10000240|Office Supplies|      Labels|Self-Adhesive Add...|   14.62|\n",
      "|     4|US-2016-108966|11/10/2016|18/10/2016|Standard Class|   SO-20335|    Sean O'Donnell|   Consumer|United States|Fort Lauderdale|       Florida|      33311|  South|FUR-TA-10000577|      Furniture|      Tables|Bretford CR4500 S...|957.5775|\n",
      "|     5|US-2016-108966|11/10/2016|18/10/2016|Standard Class|   SO-20335|    Sean O'Donnell|   Consumer|United States|Fort Lauderdale|       Florida|      33311|  South|OFF-ST-10000760|Office Supplies|     Storage|Eldon Fold 'N Rol...|  22.368|\n",
      "|     6|CA-2015-115812|09/06/2015|14/06/2015|Standard Class|   BH-11710|   Brosina Hoffman|   Consumer|United States|    Los Angeles|    California|      90032|   West|FUR-FU-10001487|      Furniture| Furnishings|Eldon Expressions...|   48.86|\n",
      "|     7|CA-2015-115812|09/06/2015|14/06/2015|Standard Class|   BH-11710|   Brosina Hoffman|   Consumer|United States|    Los Angeles|    California|      90032|   West|OFF-AR-10002833|Office Supplies|         Art|          Newell 322|    7.28|\n",
      "|     8|CA-2015-115812|09/06/2015|14/06/2015|Standard Class|   BH-11710|   Brosina Hoffman|   Consumer|United States|    Los Angeles|    California|      90032|   West|TEC-PH-10002275|     Technology|      Phones|Mitel 5320 IP Pho...| 907.152|\n",
      "|     9|CA-2015-115812|09/06/2015|14/06/2015|Standard Class|   BH-11710|   Brosina Hoffman|   Consumer|United States|    Los Angeles|    California|      90032|   West|OFF-BI-10003910|Office Supplies|     Binders|DXL Angle-View Bi...|  18.504|\n",
      "|    10|CA-2015-115812|09/06/2015|14/06/2015|Standard Class|   BH-11710|   Brosina Hoffman|   Consumer|United States|    Los Angeles|    California|      90032|   West|OFF-AP-10002892|Office Supplies|  Appliances|Belkin F5C206VTEL...|   114.9|\n",
      "|    11|CA-2015-115812|09/06/2015|14/06/2015|Standard Class|   BH-11710|   Brosina Hoffman|   Consumer|United States|    Los Angeles|    California|      90032|   West|FUR-TA-10001539|      Furniture|      Tables|Chromcraft Rectan...|1706.184|\n",
      "|    12|CA-2015-115812|09/06/2015|14/06/2015|Standard Class|   BH-11710|   Brosina Hoffman|   Consumer|United States|    Los Angeles|    California|      90032|   West|TEC-PH-10002033|     Technology|      Phones|Konftel 250 Confe...| 911.424|\n",
      "|    13|CA-2018-114412|15/04/2018|20/04/2018|Standard Class|   AA-10480|      Andrew Allen|   Consumer|United States|        Concord|North Carolina|      28027|  South|OFF-PA-10002365|Office Supplies|       Paper|          Xerox 1967|  15.552|\n",
      "|    14|CA-2017-161389|05/12/2017|10/12/2017|Standard Class|   IM-15070|      Irene Maddox|   Consumer|United States|        Seattle|    Washington|      98103|   West|OFF-BI-10003656|Office Supplies|     Binders|Fellowes PB200 Pl...| 407.976|\n",
      "|    15|US-2016-118983|22/11/2016|26/11/2016|Standard Class|   HP-14815|     Harold Pawlan|Home Office|United States|     Fort Worth|         Texas|      76106|Central|OFF-AP-10002311|Office Supplies|  Appliances|Holmes Replacemen...|   68.81|\n",
      "|    16|US-2016-118983|22/11/2016|26/11/2016|Standard Class|   HP-14815|     Harold Pawlan|Home Office|United States|     Fort Worth|         Texas|      76106|Central|OFF-BI-10000756|Office Supplies|     Binders|Storex DuraTech R...|   2.544|\n",
      "|    17|CA-2015-105893|11/11/2015|18/11/2015|Standard Class|   PK-19075|         Pete Kriz|   Consumer|United States|        Madison|     Wisconsin|      53711|Central|OFF-ST-10004186|Office Supplies|     Storage|\"Stur-D-Stor Shel...|  665.88|\n",
      "|    18|CA-2015-167164|13/05/2015|15/05/2015|  Second Class|   AG-10270|   Alejandro Grove|   Consumer|United States|    West Jordan|          Utah|      84084|   West|OFF-ST-10000107|Office Supplies|     Storage|Fellowes Super St...|    55.5|\n",
      "|    19|CA-2015-143336|27/08/2015|01/09/2015|  Second Class|   ZD-21925|Zuschuss Donatelli|   Consumer|United States|  San Francisco|    California|      94109|   West|OFF-AR-10003056|Office Supplies|         Art|          Newell 341|    8.56|\n",
      "|    20|CA-2015-143336|27/08/2015|01/09/2015|  Second Class|   ZD-21925|Zuschuss Donatelli|   Consumer|United States|  San Francisco|    California|      94109|   West|TEC-PH-10001949|     Technology|      Phones|Cisco SPA 501G IP...|  213.48|\n",
      "+------+--------------+----------+----------+--------------+-----------+------------------+-----------+-------------+---------------+--------------+-----------+-------+---------------+---------------+------------+--------------------+--------+\n",
      "only showing top 20 rows\n",
      "\n"
     ]
    }
   ],
   "source": [
    "ss = spark.read.csv('superstore.csv', header=True, inferSchema=True)\n",
    "ss.show()"
   ]
  },
  {
   "cell_type": "code",
   "execution_count": 34,
   "id": "2d8179e0-e217-40bc-9a24-1e5b1e0a548c",
   "metadata": {},
   "outputs": [
    {
     "data": {
      "text/plain": [
       "DataFrame[Row ID: int, Order ID: string, Order Date: string, Ship Date: string, Ship Mode: string, Customer ID: string, Customer Name: string, Segment: string, Country: string, City: string, State: string, Postal Code: int, Region: string, Product ID: string, Category: string, Sub-Category: string, Product Name: string, Sales: string]"
      ]
     },
     "execution_count": 34,
     "metadata": {},
     "output_type": "execute_result"
    }
   ],
   "source": [
    "ss"
   ]
  },
  {
   "cell_type": "code",
   "execution_count": 36,
   "id": "71b50d3f-2f2b-4de8-b5d8-62ab5885825f",
   "metadata": {},
   "outputs": [
    {
     "data": {
      "text/plain": [
       "DataFrame[Row ID: int, Order ID: string, Order Date: string, Ship Date: string, Ship Mode: string, Customer ID: string, Customer Name: string, Segment: string, Country: string, City: string, State: string, Postal Code: int, Region: string, Product ID: string, Category: string, Sub-Category: string, Product Name: string, Sales: string, odate: date, sdate: date]"
      ]
     },
     "execution_count": 36,
     "metadata": {},
     "output_type": "execute_result"
    }
   ],
   "source": [
    "ss = ss.withColumn('odate', F.to_date('Order Date', 'dd/MM/yyyy'))\n",
    "ss = ss.withColumn('sdate', F.to_date('Ship Date', 'dd/MM/yyyy'))\n",
    "ss"
   ]
  },
  {
   "cell_type": "code",
   "execution_count": 37,
   "id": "5a76c93f-02ae-4f65-b885-ec8d95bdc2ce",
   "metadata": {},
   "outputs": [
    {
     "name": "stdout",
     "output_type": "stream",
     "text": [
      "+----------------+\n",
      "|dayofweek(odate)|\n",
      "+----------------+\n",
      "|               4|\n",
      "|               4|\n",
      "|               2|\n",
      "|               3|\n",
      "|               3|\n",
      "|               3|\n",
      "|               3|\n",
      "|               3|\n",
      "|               3|\n",
      "|               3|\n",
      "|               3|\n",
      "|               3|\n",
      "|               1|\n",
      "|               3|\n",
      "|               3|\n",
      "|               3|\n",
      "|               4|\n",
      "|               4|\n",
      "|               5|\n",
      "|               5|\n",
      "+----------------+\n",
      "only showing top 20 rows\n",
      "\n"
     ]
    }
   ],
   "source": [
    "ss.select(F.dayofweek('odate')).show()"
   ]
  },
  {
   "cell_type": "code",
   "execution_count": 41,
   "id": "14812c6e-557c-40b3-824b-25ee04bd5fea",
   "metadata": {},
   "outputs": [
    {
     "name": "stdout",
     "output_type": "stream",
     "text": [
      "+---------+-----+\n",
      "|shipdelay|count|\n",
      "+---------+-----+\n",
      "|        1|  363|\n",
      "|        6| 1170|\n",
      "|        3|  978|\n",
      "|        5| 2147|\n",
      "|        4| 2718|\n",
      "|        7|  615|\n",
      "|        2| 1295|\n",
      "|        0|  514|\n",
      "+---------+-----+\n",
      "\n"
     ]
    }
   ],
   "source": [
    "ss.select(F.datediff('sdate', 'odate').alias('shipdelay')).groupby('shipdelay').count().show()"
   ]
  },
  {
   "cell_type": "code",
   "execution_count": 42,
   "id": "3400393e-13c9-402c-b40c-194e2564ba72",
   "metadata": {},
   "outputs": [
    {
     "name": "stdout",
     "output_type": "stream",
     "text": [
      "+-------------------------------+\n",
      "|datediff(current_date(), sdate)|\n",
      "+-------------------------------+\n",
      "|                           2746|\n",
      "|                           2746|\n",
      "|                           2894|\n",
      "|                           3135|\n",
      "|                           3135|\n",
      "|                           3627|\n",
      "|                           3627|\n",
      "|                           3627|\n",
      "|                           3627|\n",
      "|                           3627|\n",
      "|                           3627|\n",
      "|                           3627|\n",
      "|                           2586|\n",
      "|                           2717|\n",
      "|                           3096|\n",
      "|                           3096|\n",
      "|                           3470|\n",
      "|                           3657|\n",
      "|                           3548|\n",
      "|                           3548|\n",
      "+-------------------------------+\n",
      "only showing top 20 rows\n",
      "\n"
     ]
    }
   ],
   "source": [
    "# days since shipped\n",
    "ss.select(F.datediff(F.current_date(), 'sdate')).show()"
   ]
  },
  {
   "cell_type": "code",
   "execution_count": 44,
   "id": "a5edf2d1-22d8-47a6-b7f8-070e4be897b9",
   "metadata": {
    "scrolled": true
   },
   "outputs": [
    {
     "name": "stdout",
     "output_type": "stream",
     "text": [
      "+-------------------------------------------+\n",
      "|months_between(current_date(), sdate, true)|\n",
      "+-------------------------------------------+\n",
      "|                                90.25806452|\n",
      "|                                90.25806452|\n",
      "|                                95.09677419|\n",
      "|                               103.03225806|\n",
      "|                               103.03225806|\n",
      "|                               119.16129032|\n",
      "|                               119.16129032|\n",
      "|                               119.16129032|\n",
      "|                               119.16129032|\n",
      "|                               119.16129032|\n",
      "|                               119.16129032|\n",
      "|                               119.16129032|\n",
      "|                                84.96774194|\n",
      "|                                89.29032258|\n",
      "|                               101.77419355|\n",
      "|                               101.77419355|\n",
      "|                               114.03225806|\n",
      "|                               120.12903226|\n",
      "|                               116.58064516|\n",
      "|                               116.58064516|\n",
      "+-------------------------------------------+\n",
      "only showing top 20 rows\n",
      "\n"
     ]
    },
    {
     "name": "stderr",
     "output_type": "stream",
     "text": [
      "25/05/19 14:47:05 WARN HeartbeatReceiver: Removing executor driver with no recent heartbeats: 1042069 ms exceeds timeout 120000 ms\n",
      "25/05/19 14:47:05 WARN SparkContext: Killing executors is not supported by current scheduler.\n"
     ]
    }
   ],
   "source": [
    "ss.select(F.months_between(F.current_date(), 'sdate')).show()"
   ]
  },
  {
   "cell_type": "code",
   "execution_count": null,
   "id": "b17129ee-66ab-452b-b6cc-75b777082ffd",
   "metadata": {},
   "outputs": [],
   "source": [
    "F."
   ]
  },
  {
   "cell_type": "code",
   "execution_count": null,
   "id": "c48aa40e-4cca-4503-8158-35b8b65198a1",
   "metadata": {},
   "outputs": [],
   "source": []
  }
 ],
 "metadata": {
  "kernelspec": {
   "display_name": "Python 3 (ipykernel)",
   "language": "python",
   "name": "python3"
  },
  "language_info": {
   "codemirror_mode": {
    "name": "ipython",
    "version": 3
   },
   "file_extension": ".py",
   "mimetype": "text/x-python",
   "name": "python",
   "nbconvert_exporter": "python",
   "pygments_lexer": "ipython3",
   "version": "3.11.0"
  }
 },
 "nbformat": 4,
 "nbformat_minor": 5
}
