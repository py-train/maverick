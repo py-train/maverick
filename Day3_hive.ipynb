{
 "cells": [
  {
   "cell_type": "markdown",
   "id": "7356e9aa-ca1b-4fda-9f9f-e1eb7ea495d3",
   "metadata": {},
   "source": [
    "![Hive](./images/Hive.png)"
   ]
  },
  {
   "cell_type": "markdown",
   "id": "63d68dea-fd31-4d25-ab05-d8c54a027535",
   "metadata": {},
   "source": [
    "```SQL\n",
    "\n",
    "CREATE TABLE sales_data_partitioned (\n",
    "  product_id INT,\n",
    "  quantity INT,\n",
    "  revenue DECIMAL(10, 2)\n",
    ")\n",
    "PARTITIONED BY (date STRING);\n",
    "\n",
    "CREATE TABLE sales_data_bucketed (\n",
    "  product_id INT,\n",
    "  quantity INT,\n",
    "  revenue DECIMAL(10, 2)\n",
    ")\n",
    "CLUSTERED BY (product_id) INTO 5 BUCKETS;\n"
   ]
  },
  {
   "cell_type": "markdown",
   "id": "0e2a3bc3-823f-44b8-8f86-323c41ca2fb3",
   "metadata": {},
   "source": [
    "## ORC\n",
    "\n",
    "- Optimized Row Columnar\n",
    "- Data stored by columns rather than rows\n",
    "- Compression: Zlib, snappy\n",
    "- Indexing\n",
    "- Encoding\n",
    "\n",
    "### Related\n",
    "- Parquet:\n",
    "    - does not support clustering\n",
    "    - partitioning optimizes joins\n",
    "    - Fast load/read\n",
    "    - Supports nested data!\n",
    "- AVRO\n",
    "    - not columnar, but supports compression"
   ]
  },
  {
   "cell_type": "markdown",
   "id": "17b291b5-3c21-4e4b-a580-f5067abc435d",
   "metadata": {},
   "source": [
    "## Optimization Params\n",
    "\n",
    "| Parameter                          | Description                                          |\n",
    "| ---------------------------------- | ---------------------------------------------------- |\n",
    "| `hive.optimize.skewjoin`           | Enables skewed join optimization.                    |\n",
    "| `hive.auto.convert.join`           | Enables MapJoin (in-memory) where applicable.        |\n",
    "| `mapreduce.job.reduces`                         | Manually sets the number of reducers.   |\n",
    "| `mapreduce.map.memory.mb`                       | Memory per map task (MB).               |\n",
    "| `mapreduce.reduce.memory.mb`                    | Memory per reduce task (MB).            |\n"
   ]
  },
  {
   "cell_type": "markdown",
   "id": "ffabf297-acb2-4ca6-89ba-95636d0c5802",
   "metadata": {},
   "source": []
  },
  {
   "cell_type": "markdown",
   "id": "bbfa15f6-12cc-404c-8af8-9c1cc581c4c0",
   "metadata": {},
   "source": [
    "```python\n",
    "\n",
    "spark = SparkSession \\\n",
    "    .builder \\\n",
    "    .appName(\"hive-access\") \\\n",
    "    .enableHiveSupport() \\\n",
    "    .getOrCreate()\n",
    "\n",
    "df.write.saveAsTable(\"employee\")\n"
   ]
  },
  {
   "cell_type": "markdown",
   "id": "01aa57a7-25b7-43da-9b7c-ebe38e20237e",
   "metadata": {},
   "source": []
  }
 ],
 "metadata": {
  "kernelspec": {
   "display_name": "Python 3 (ipykernel)",
   "language": "python",
   "name": "python3"
  },
  "language_info": {
   "codemirror_mode": {
    "name": "ipython",
    "version": 3
   },
   "file_extension": ".py",
   "mimetype": "text/x-python",
   "name": "python",
   "nbconvert_exporter": "python",
   "pygments_lexer": "ipython3",
   "version": "3.11.0"
  }
 },
 "nbformat": 4,
 "nbformat_minor": 5
}
