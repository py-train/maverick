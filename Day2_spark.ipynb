{
 "cells": [
  {
   "cell_type": "code",
   "execution_count": 1,
   "id": "ed05f036-65f8-4145-8851-9723b860d736",
   "metadata": {},
   "outputs": [
    {
     "data": {
      "text/html": [
       "\n",
       "            <div>\n",
       "                <p><b>SparkSession - hive</b></p>\n",
       "                \n",
       "        <div>\n",
       "            <p><b>SparkContext</b></p>\n",
       "\n",
       "            <p><a href=\"http://192.168.1.11:4043\">Spark UI</a></p>\n",
       "\n",
       "            <dl>\n",
       "              <dt>Version</dt>\n",
       "                <dd><code>v3.1.2</code></dd>\n",
       "              <dt>Master</dt>\n",
       "                <dd><code>local[*]</code></dd>\n",
       "              <dt>AppName</dt>\n",
       "                <dd><code>PySparkShell</code></dd>\n",
       "            </dl>\n",
       "        </div>\n",
       "        \n",
       "            </div>\n",
       "        "
      ],
      "text/plain": [
       "<pyspark.sql.session.SparkSession at 0x124db1990>"
      ]
     },
     "execution_count": 1,
     "metadata": {},
     "output_type": "execute_result"
    }
   ],
   "source": [
    "spark"
   ]
  },
  {
   "cell_type": "code",
   "execution_count": 4,
   "id": "f3d98f6e-7b73-48d3-bb26-0162ae2377ed",
   "metadata": {},
   "outputs": [
    {
     "data": {
      "text/plain": [
       "DataFrame[total_bill: string, tip: string, sex: string, smoker: string, day: string, time: string, size: string]"
      ]
     },
     "execution_count": 4,
     "metadata": {},
     "output_type": "execute_result"
    }
   ],
   "source": [
    "df = spark.read.csv('tips.csv', header=True)\n",
    "df"
   ]
  },
  {
   "cell_type": "code",
   "execution_count": 5,
   "id": "859a5d3b-191c-4173-93cf-7ff7dd755941",
   "metadata": {},
   "outputs": [
    {
     "name": "stdout",
     "output_type": "stream",
     "text": [
      "+----------+----+------+------+---+------+----+\n",
      "|total_bill| tip|   sex|smoker|day|  time|size|\n",
      "+----------+----+------+------+---+------+----+\n",
      "|     16.99|1.01|Female|    No|Sun|Dinner|   2|\n",
      "|     10.34|1.66|  Male|    No|Sun|Dinner|   3|\n",
      "|     21.01| 3.5|  Male|    No|Sun|Dinner|   3|\n",
      "|     23.68|3.31|  Male|    No|Sun|Dinner|   2|\n",
      "|     24.59|3.61|Female|    No|Sun|Dinner|   4|\n",
      "|     25.29|4.71|  Male|    No|Sun|Dinner|   4|\n",
      "|      8.77|   2|  Male|    No|Sun|Dinner|   2|\n",
      "|     26.88|3.12|  Male|    No|Sun|Dinner|   4|\n",
      "|     15.04|1.96|  Male|    No|Sun|Dinner|   2|\n",
      "|     14.78|3.23|  Male|    No|Sun|Dinner|   2|\n",
      "|     10.27|1.71|  Male|    No|Sun|Dinner|   2|\n",
      "|     35.26|   5|Female|    No|Sun|Dinner|   4|\n",
      "|     15.42|1.57|  Male|    No|Sun|Dinner|   2|\n",
      "|     18.43|   3|  Male|    No|Sun|Dinner|   4|\n",
      "|     14.83|3.02|Female|    No|Sun|Dinner|   2|\n",
      "|     21.58|3.92|  Male|    No|Sun|Dinner|   2|\n",
      "|     10.33|1.67|Female|    No|Sun|Dinner|   3|\n",
      "|     16.29|3.71|  Male|    No|Sun|Dinner|   3|\n",
      "|     16.97| 3.5|Female|    No|Sun|Dinner|   3|\n",
      "|     20.65|3.35|  Male|    No|Sat|Dinner|   3|\n",
      "+----------+----+------+------+---+------+----+\n",
      "only showing top 20 rows\n",
      "\n"
     ]
    }
   ],
   "source": [
    "df.show()"
   ]
  },
  {
   "cell_type": "code",
   "execution_count": null,
   "id": "8bde5b6c-9e20-4b98-84c6-b625e7726a43",
   "metadata": {},
   "outputs": [],
   "source": [
    "# Counts of tip payers by gender\n",
    "# Male : 120\n",
    "# Female: 180\n",
    "df.groupby("
   ]
  },
  {
   "cell_type": "code",
   "execution_count": null,
   "id": "6bdf2dda-985c-451d-b7cd-1aa564b5bd5b",
   "metadata": {},
   "outputs": [],
   "source": [
    "# add another column 'total' which is the sum of total_bill and tip\n",
    "df.withColumn("
   ]
  },
  {
   "cell_type": "code",
   "execution_count": 6,
   "id": "ac3522b7-f023-411c-9720-20abdb7cb04a",
   "metadata": {},
   "outputs": [],
   "source": [
    "import pyspark.sql.functions as F"
   ]
  },
  {
   "cell_type": "code",
   "execution_count": 8,
   "id": "46955bcd-44d6-4521-be3f-ff185ca59a89",
   "metadata": {},
   "outputs": [
    {
     "name": "stdout",
     "output_type": "stream",
     "text": [
      "+----------+----+------+------+---+------+----+-------------+\n",
      "|total_bill| tip|   sex|smoker|day|  time|size|     combined|\n",
      "+----------+----+------+------+---+------+----+-------------+\n",
      "|     16.99|1.01|Female|    No|Sun|Dinner|   2|[16.99, 1.01]|\n",
      "|     10.34|1.66|  Male|    No|Sun|Dinner|   3|[10.34, 1.66]|\n",
      "|     21.01| 3.5|  Male|    No|Sun|Dinner|   3| [21.01, 3.5]|\n",
      "|     23.68|3.31|  Male|    No|Sun|Dinner|   2|[23.68, 3.31]|\n",
      "|     24.59|3.61|Female|    No|Sun|Dinner|   4|[24.59, 3.61]|\n",
      "|     25.29|4.71|  Male|    No|Sun|Dinner|   4|[25.29, 4.71]|\n",
      "|      8.77|   2|  Male|    No|Sun|Dinner|   2|    [8.77, 2]|\n",
      "|     26.88|3.12|  Male|    No|Sun|Dinner|   4|[26.88, 3.12]|\n",
      "|     15.04|1.96|  Male|    No|Sun|Dinner|   2|[15.04, 1.96]|\n",
      "|     14.78|3.23|  Male|    No|Sun|Dinner|   2|[14.78, 3.23]|\n",
      "|     10.27|1.71|  Male|    No|Sun|Dinner|   2|[10.27, 1.71]|\n",
      "|     35.26|   5|Female|    No|Sun|Dinner|   4|   [35.26, 5]|\n",
      "|     15.42|1.57|  Male|    No|Sun|Dinner|   2|[15.42, 1.57]|\n",
      "|     18.43|   3|  Male|    No|Sun|Dinner|   4|   [18.43, 3]|\n",
      "|     14.83|3.02|Female|    No|Sun|Dinner|   2|[14.83, 3.02]|\n",
      "|     21.58|3.92|  Male|    No|Sun|Dinner|   2|[21.58, 3.92]|\n",
      "|     10.33|1.67|Female|    No|Sun|Dinner|   3|[10.33, 1.67]|\n",
      "|     16.29|3.71|  Male|    No|Sun|Dinner|   3|[16.29, 3.71]|\n",
      "|     16.97| 3.5|Female|    No|Sun|Dinner|   3| [16.97, 3.5]|\n",
      "|     20.65|3.35|  Male|    No|Sat|Dinner|   3|[20.65, 3.35]|\n",
      "+----------+----+------+------+---+------+----+-------------+\n",
      "only showing top 20 rows\n",
      "\n"
     ]
    }
   ],
   "source": [
    "# add another column combined = [20.65, 3.35]\n",
    "df.withColumn('combined', F.array('total_bill', 'tip')).show()"
   ]
  },
  {
   "cell_type": "code",
   "execution_count": 29,
   "id": "1ac9b3fd-0f36-471c-a47a-7885fd2385d6",
   "metadata": {},
   "outputs": [],
   "source": [
    "# add another column combined = [20.65, 3.35]\n",
    "arrdf = df.withColumn('combined', F.array('total_bill', 'tip'))"
   ]
  },
  {
   "cell_type": "code",
   "execution_count": 13,
   "id": "ab485ebc-7cd4-4e32-b2bc-29f692d020df",
   "metadata": {},
   "outputs": [
    {
     "name": "stdout",
     "output_type": "stream",
     "text": [
      "+------+-----+\n",
      "|   sex|count|\n",
      "+------+-----+\n",
      "|Female|   87|\n",
      "|  Male|  157|\n",
      "+------+-----+\n",
      "\n"
     ]
    }
   ],
   "source": [
    "df.groupby('sex').count().show()"
   ]
  },
  {
   "cell_type": "code",
   "execution_count": 19,
   "id": "36c764e3-f4cc-4d7f-8d10-077e8795a600",
   "metadata": {},
   "outputs": [
    {
     "data": {
      "text/plain": [
       "DataFrame[collect_list(sex): array<string>]"
      ]
     },
     "execution_count": 19,
     "metadata": {},
     "output_type": "execute_result"
    }
   ],
   "source": [
    "df.select(F.collect_list('sex'))"
   ]
  },
  {
   "cell_type": "code",
   "execution_count": 17,
   "id": "5417e694-8213-4bd4-aa4c-1e9c3463a1b6",
   "metadata": {},
   "outputs": [
    {
     "name": "stdout",
     "output_type": "stream",
     "text": [
      "+--------------------+\n",
      "|   collect_list(sex)|\n",
      "+--------------------+\n",
      "|[Female, Male, Ma...|\n",
      "+--------------------+\n",
      "\n"
     ]
    }
   ],
   "source": [
    "df.select(F.collect_list('sex')).show()"
   ]
  },
  {
   "cell_type": "code",
   "execution_count": 18,
   "id": "1f45ef7f-9a0a-408e-a207-965d9a469ec1",
   "metadata": {},
   "outputs": [
    {
     "data": {
      "text/plain": [
       "['Female',\n",
       " 'Male',\n",
       " 'Male',\n",
       " 'Male',\n",
       " 'Female',\n",
       " 'Male',\n",
       " 'Male',\n",
       " 'Male',\n",
       " 'Male',\n",
       " 'Male',\n",
       " 'Male',\n",
       " 'Female',\n",
       " 'Male',\n",
       " 'Male',\n",
       " 'Female',\n",
       " 'Male',\n",
       " 'Female',\n",
       " 'Male',\n",
       " 'Female',\n",
       " 'Male',\n",
       " 'Male',\n",
       " 'Female',\n",
       " 'Female',\n",
       " 'Male',\n",
       " 'Male',\n",
       " 'Male',\n",
       " 'Male',\n",
       " 'Male',\n",
       " 'Male',\n",
       " 'Female',\n",
       " 'Male',\n",
       " 'Male',\n",
       " 'Female',\n",
       " 'Female',\n",
       " 'Male',\n",
       " 'Male',\n",
       " 'Male',\n",
       " 'Female',\n",
       " 'Male',\n",
       " 'Male',\n",
       " 'Male',\n",
       " 'Male',\n",
       " 'Male',\n",
       " 'Male',\n",
       " 'Male',\n",
       " 'Male',\n",
       " 'Male',\n",
       " 'Male',\n",
       " 'Male',\n",
       " 'Male',\n",
       " 'Male',\n",
       " 'Female',\n",
       " 'Female',\n",
       " 'Male',\n",
       " 'Male',\n",
       " 'Male',\n",
       " 'Male',\n",
       " 'Female',\n",
       " 'Male',\n",
       " 'Male',\n",
       " 'Male',\n",
       " 'Male',\n",
       " 'Male',\n",
       " 'Male',\n",
       " 'Male',\n",
       " 'Male',\n",
       " 'Female',\n",
       " 'Female',\n",
       " 'Male',\n",
       " 'Male',\n",
       " 'Male',\n",
       " 'Female',\n",
       " 'Female',\n",
       " 'Female',\n",
       " 'Female',\n",
       " 'Male',\n",
       " 'Male',\n",
       " 'Male',\n",
       " 'Male',\n",
       " 'Male',\n",
       " 'Male',\n",
       " 'Male',\n",
       " 'Female',\n",
       " 'Male',\n",
       " 'Male',\n",
       " 'Female',\n",
       " 'Male',\n",
       " 'Male',\n",
       " 'Male',\n",
       " 'Male',\n",
       " 'Male',\n",
       " 'Male',\n",
       " 'Female',\n",
       " 'Female',\n",
       " 'Female',\n",
       " 'Male',\n",
       " 'Male',\n",
       " 'Male',\n",
       " 'Male',\n",
       " 'Male',\n",
       " 'Female',\n",
       " 'Female',\n",
       " 'Female',\n",
       " 'Female',\n",
       " 'Female',\n",
       " 'Male',\n",
       " 'Male',\n",
       " 'Male',\n",
       " 'Male',\n",
       " 'Female',\n",
       " 'Male',\n",
       " 'Female',\n",
       " 'Male',\n",
       " 'Male',\n",
       " 'Female',\n",
       " 'Female',\n",
       " 'Male',\n",
       " 'Female',\n",
       " 'Female',\n",
       " 'Female',\n",
       " 'Male',\n",
       " 'Female',\n",
       " 'Male',\n",
       " 'Male',\n",
       " 'Female',\n",
       " 'Female',\n",
       " 'Male',\n",
       " 'Female',\n",
       " 'Female',\n",
       " 'Male',\n",
       " 'Male',\n",
       " 'Female',\n",
       " 'Female',\n",
       " 'Female',\n",
       " 'Female',\n",
       " 'Female',\n",
       " 'Female',\n",
       " 'Female',\n",
       " 'Male',\n",
       " 'Female',\n",
       " 'Female',\n",
       " 'Male',\n",
       " 'Male',\n",
       " 'Female',\n",
       " 'Female',\n",
       " 'Female',\n",
       " 'Female',\n",
       " 'Female',\n",
       " 'Male',\n",
       " 'Male',\n",
       " 'Male',\n",
       " 'Male',\n",
       " 'Male',\n",
       " 'Male',\n",
       " 'Male',\n",
       " 'Female',\n",
       " 'Male',\n",
       " 'Female',\n",
       " 'Female',\n",
       " 'Male',\n",
       " 'Male',\n",
       " 'Male',\n",
       " 'Female',\n",
       " 'Male',\n",
       " 'Female',\n",
       " 'Male',\n",
       " 'Male',\n",
       " 'Male',\n",
       " 'Female',\n",
       " 'Female',\n",
       " 'Male',\n",
       " 'Male',\n",
       " 'Male',\n",
       " 'Male',\n",
       " 'Male',\n",
       " 'Male',\n",
       " 'Male',\n",
       " 'Male',\n",
       " 'Female',\n",
       " 'Male',\n",
       " 'Male',\n",
       " 'Male',\n",
       " 'Male',\n",
       " 'Male',\n",
       " 'Male',\n",
       " 'Male',\n",
       " 'Female',\n",
       " 'Male',\n",
       " 'Female',\n",
       " 'Male',\n",
       " 'Male',\n",
       " 'Female',\n",
       " 'Male',\n",
       " 'Male',\n",
       " 'Male',\n",
       " 'Male',\n",
       " 'Male',\n",
       " 'Female',\n",
       " 'Female',\n",
       " 'Male',\n",
       " 'Male',\n",
       " 'Female',\n",
       " 'Female',\n",
       " 'Female',\n",
       " 'Male',\n",
       " 'Female',\n",
       " 'Male',\n",
       " 'Male',\n",
       " 'Male',\n",
       " 'Female',\n",
       " 'Male',\n",
       " 'Male',\n",
       " 'Male',\n",
       " 'Female',\n",
       " 'Female',\n",
       " 'Female',\n",
       " 'Male',\n",
       " 'Male',\n",
       " 'Male',\n",
       " 'Female',\n",
       " 'Male',\n",
       " 'Female',\n",
       " 'Male',\n",
       " 'Female',\n",
       " 'Male',\n",
       " 'Female',\n",
       " 'Female',\n",
       " 'Male',\n",
       " 'Male',\n",
       " 'Female',\n",
       " 'Male',\n",
       " 'Male',\n",
       " 'Male',\n",
       " 'Male',\n",
       " 'Male',\n",
       " 'Male',\n",
       " 'Male',\n",
       " 'Male',\n",
       " 'Female',\n",
       " 'Male',\n",
       " 'Female',\n",
       " 'Male',\n",
       " 'Male',\n",
       " 'Female']"
      ]
     },
     "execution_count": 18,
     "metadata": {},
     "output_type": "execute_result"
    }
   ],
   "source": [
    "df.select(F.collect_list('sex')).first()[0]"
   ]
  },
  {
   "cell_type": "code",
   "execution_count": 26,
   "id": "67a2496d-2c7d-45ae-aa43-cf69e704d84d",
   "metadata": {},
   "outputs": [
    {
     "name": "stdout",
     "output_type": "stream",
     "text": [
      "+----------------+\n",
      "|collect_set(sex)|\n",
      "+----------------+\n",
      "|  [Female, Male]|\n",
      "+----------------+\n",
      "\n"
     ]
    }
   ],
   "source": [
    "df.select(F.collect_set('sex')).show()"
   ]
  },
  {
   "cell_type": "code",
   "execution_count": 23,
   "id": "0ef9dbc7-1747-4023-9124-8a7c31530dc3",
   "metadata": {},
   "outputs": [
    {
     "data": {
      "text/plain": [
       "8"
      ]
     },
     "execution_count": 23,
     "metadata": {},
     "output_type": "execute_result"
    }
   ],
   "source": [
    "nums = [1,2,3,3,2,1,2,3]\n",
    "len(nums)"
   ]
  },
  {
   "cell_type": "code",
   "execution_count": 25,
   "id": "c7fb46fa-2ddb-436b-85bc-993ac63b5341",
   "metadata": {},
   "outputs": [
    {
     "data": {
      "text/plain": [
       "3"
      ]
     },
     "execution_count": 25,
     "metadata": {},
     "output_type": "execute_result"
    }
   ],
   "source": [
    "nums_set = set(nums)\n",
    "len(nums_set)"
   ]
  },
  {
   "cell_type": "code",
   "execution_count": 27,
   "id": "4cf1e7d9-333a-4184-aa4f-e1069d12f85d",
   "metadata": {},
   "outputs": [
    {
     "name": "stdout",
     "output_type": "stream",
     "text": [
      "+----------+----+------+------+---+------+----+--------------+\n",
      "|total_bill| tip|   sex|smoker|day|  time|size|     sexsmoker|\n",
      "+----------+----+------+------+---+------+----+--------------+\n",
      "|     16.99|1.01|Female|    No|Sun|Dinner|   2|{Female -> No}|\n",
      "|     10.34|1.66|  Male|    No|Sun|Dinner|   3|  {Male -> No}|\n",
      "|     21.01| 3.5|  Male|    No|Sun|Dinner|   3|  {Male -> No}|\n",
      "|     23.68|3.31|  Male|    No|Sun|Dinner|   2|  {Male -> No}|\n",
      "|     24.59|3.61|Female|    No|Sun|Dinner|   4|{Female -> No}|\n",
      "|     25.29|4.71|  Male|    No|Sun|Dinner|   4|  {Male -> No}|\n",
      "|      8.77|   2|  Male|    No|Sun|Dinner|   2|  {Male -> No}|\n",
      "|     26.88|3.12|  Male|    No|Sun|Dinner|   4|  {Male -> No}|\n",
      "|     15.04|1.96|  Male|    No|Sun|Dinner|   2|  {Male -> No}|\n",
      "|     14.78|3.23|  Male|    No|Sun|Dinner|   2|  {Male -> No}|\n",
      "|     10.27|1.71|  Male|    No|Sun|Dinner|   2|  {Male -> No}|\n",
      "|     35.26|   5|Female|    No|Sun|Dinner|   4|{Female -> No}|\n",
      "|     15.42|1.57|  Male|    No|Sun|Dinner|   2|  {Male -> No}|\n",
      "|     18.43|   3|  Male|    No|Sun|Dinner|   4|  {Male -> No}|\n",
      "|     14.83|3.02|Female|    No|Sun|Dinner|   2|{Female -> No}|\n",
      "|     21.58|3.92|  Male|    No|Sun|Dinner|   2|  {Male -> No}|\n",
      "|     10.33|1.67|Female|    No|Sun|Dinner|   3|{Female -> No}|\n",
      "|     16.29|3.71|  Male|    No|Sun|Dinner|   3|  {Male -> No}|\n",
      "|     16.97| 3.5|Female|    No|Sun|Dinner|   3|{Female -> No}|\n",
      "|     20.65|3.35|  Male|    No|Sat|Dinner|   3|  {Male -> No}|\n",
      "+----------+----+------+------+---+------+----+--------------+\n",
      "only showing top 20 rows\n",
      "\n"
     ]
    }
   ],
   "source": [
    "df.withColumn('sexsmoker', F.create_map('sex', 'smoker')).show()"
   ]
  },
  {
   "cell_type": "code",
   "execution_count": 28,
   "id": "6aebd212-70f3-4f81-a1c5-295890fc60ad",
   "metadata": {},
   "outputs": [],
   "source": [
    "mapdf = df.withColumn('sexsmoker', F.create_map('sex', 'smoker'))"
   ]
  },
  {
   "cell_type": "code",
   "execution_count": 34,
   "id": "b26060c4-ad71-4ab3-bc3f-d3820bee7428",
   "metadata": {},
   "outputs": [
    {
     "name": "stdout",
     "output_type": "stream",
     "text": [
      "+-------------+\n",
      "|     combined|\n",
      "+-------------+\n",
      "|[16.99, 1.01]|\n",
      "|[10.34, 1.66]|\n",
      "| [21.01, 3.5]|\n",
      "|[23.68, 3.31]|\n",
      "|[24.59, 3.61]|\n",
      "|[25.29, 4.71]|\n",
      "|    [8.77, 2]|\n",
      "|[26.88, 3.12]|\n",
      "|[15.04, 1.96]|\n",
      "|[14.78, 3.23]|\n",
      "|[10.27, 1.71]|\n",
      "|   [35.26, 5]|\n",
      "|[15.42, 1.57]|\n",
      "|   [18.43, 3]|\n",
      "|[14.83, 3.02]|\n",
      "|[21.58, 3.92]|\n",
      "|[10.33, 1.67]|\n",
      "|[16.29, 3.71]|\n",
      "| [16.97, 3.5]|\n",
      "|[20.65, 3.35]|\n",
      "+-------------+\n",
      "only showing top 20 rows\n",
      "\n"
     ]
    }
   ],
   "source": [
    "arrdf.select('combined').show()"
   ]
  },
  {
   "cell_type": "code",
   "execution_count": 32,
   "id": "2309585d-ffae-44f4-ae8a-609bfdc82514",
   "metadata": {},
   "outputs": [
    {
     "name": "stdout",
     "output_type": "stream",
     "text": [
      "+-----+\n",
      "|  col|\n",
      "+-----+\n",
      "|16.99|\n",
      "| 1.01|\n",
      "|10.34|\n",
      "| 1.66|\n",
      "|21.01|\n",
      "|  3.5|\n",
      "|23.68|\n",
      "| 3.31|\n",
      "|24.59|\n",
      "| 3.61|\n",
      "|25.29|\n",
      "| 4.71|\n",
      "| 8.77|\n",
      "|    2|\n",
      "|26.88|\n",
      "| 3.12|\n",
      "|15.04|\n",
      "| 1.96|\n",
      "|14.78|\n",
      "| 3.23|\n",
      "+-----+\n",
      "only showing top 20 rows\n",
      "\n"
     ]
    }
   ],
   "source": [
    "arrdf.select(F.explode('combined')).show()"
   ]
  },
  {
   "cell_type": "code",
   "execution_count": 36,
   "id": "87d4f479-d390-4478-a54e-23c7a74785fa",
   "metadata": {},
   "outputs": [
    {
     "name": "stdout",
     "output_type": "stream",
     "text": [
      "+------+-----+\n",
      "|   key|value|\n",
      "+------+-----+\n",
      "|Female|   No|\n",
      "|  Male|   No|\n",
      "|  Male|   No|\n",
      "|  Male|   No|\n",
      "|Female|   No|\n",
      "|  Male|   No|\n",
      "|  Male|   No|\n",
      "|  Male|   No|\n",
      "|  Male|   No|\n",
      "|  Male|   No|\n",
      "|  Male|   No|\n",
      "|Female|   No|\n",
      "|  Male|   No|\n",
      "|  Male|   No|\n",
      "|Female|   No|\n",
      "|  Male|   No|\n",
      "|Female|   No|\n",
      "|  Male|   No|\n",
      "|Female|   No|\n",
      "|  Male|   No|\n",
      "+------+-----+\n",
      "only showing top 20 rows\n",
      "\n"
     ]
    }
   ],
   "source": [
    "mapdf.select(F.explode('sexsmoker')).show()"
   ]
  },
  {
   "cell_type": "code",
   "execution_count": 37,
   "id": "13321bf9-563e-4afc-8109-8af9bdc125dc",
   "metadata": {},
   "outputs": [
    {
     "data": {
      "text/plain": [
       "DataFrame[total_bill: string, tip: string, sex: string, smoker: string, day: string, time: string, size: string]"
      ]
     },
     "execution_count": 37,
     "metadata": {},
     "output_type": "execute_result"
    }
   ],
   "source": [
    "df"
   ]
  },
  {
   "cell_type": "code",
   "execution_count": 38,
   "id": "4914971d-c67e-423e-8773-314fccd4d839",
   "metadata": {},
   "outputs": [],
   "source": [
    "from pyspark.sql import SparkSession, HiveContext"
   ]
  },
  {
   "cell_type": "code",
   "execution_count": 39,
   "id": "b64bb076-ce44-49e0-aa42-69c528e7f77c",
   "metadata": {},
   "outputs": [],
   "source": [
    "spark = SparkSession.builder.appName('test').enableHiveSupport().getOrCreate()"
   ]
  },
  {
   "cell_type": "code",
   "execution_count": 40,
   "id": "23a29eca-cfa8-4a03-adfd-d68dedc0c886",
   "metadata": {},
   "outputs": [
    {
     "data": {
      "text/html": [
       "\n",
       "            <div>\n",
       "                <p><b>SparkSession - hive</b></p>\n",
       "                \n",
       "        <div>\n",
       "            <p><b>SparkContext</b></p>\n",
       "\n",
       "            <p><a href=\"http://192.168.1.11:4043\">Spark UI</a></p>\n",
       "\n",
       "            <dl>\n",
       "              <dt>Version</dt>\n",
       "                <dd><code>v3.1.2</code></dd>\n",
       "              <dt>Master</dt>\n",
       "                <dd><code>local[*]</code></dd>\n",
       "              <dt>AppName</dt>\n",
       "                <dd><code>PySparkShell</code></dd>\n",
       "            </dl>\n",
       "        </div>\n",
       "        \n",
       "            </div>\n",
       "        "
      ],
      "text/plain": [
       "<pyspark.sql.session.SparkSession at 0x124db1990>"
      ]
     },
     "execution_count": 40,
     "metadata": {},
     "output_type": "execute_result"
    }
   ],
   "source": [
    "spark"
   ]
  },
  {
   "cell_type": "code",
   "execution_count": 41,
   "id": "329cb53b-8cdf-4ed5-8500-6b8c5725f64d",
   "metadata": {},
   "outputs": [
    {
     "name": "stdout",
     "output_type": "stream",
     "text": [
      "+----------+----+------+------+---+------+----+\n",
      "|total_bill| tip|   sex|smoker|day|  time|size|\n",
      "+----------+----+------+------+---+------+----+\n",
      "|     16.99|1.01|Female|    No|Sun|Dinner|   2|\n",
      "|     10.34|1.66|  Male|    No|Sun|Dinner|   3|\n",
      "|     21.01| 3.5|  Male|    No|Sun|Dinner|   3|\n",
      "|     23.68|3.31|  Male|    No|Sun|Dinner|   2|\n",
      "|     24.59|3.61|Female|    No|Sun|Dinner|   4|\n",
      "|     25.29|4.71|  Male|    No|Sun|Dinner|   4|\n",
      "|      8.77|   2|  Male|    No|Sun|Dinner|   2|\n",
      "|     26.88|3.12|  Male|    No|Sun|Dinner|   4|\n",
      "|     15.04|1.96|  Male|    No|Sun|Dinner|   2|\n",
      "|     14.78|3.23|  Male|    No|Sun|Dinner|   2|\n",
      "|     10.27|1.71|  Male|    No|Sun|Dinner|   2|\n",
      "|     35.26|   5|Female|    No|Sun|Dinner|   4|\n",
      "|     15.42|1.57|  Male|    No|Sun|Dinner|   2|\n",
      "|     18.43|   3|  Male|    No|Sun|Dinner|   4|\n",
      "|     14.83|3.02|Female|    No|Sun|Dinner|   2|\n",
      "|     21.58|3.92|  Male|    No|Sun|Dinner|   2|\n",
      "|     10.33|1.67|Female|    No|Sun|Dinner|   3|\n",
      "|     16.29|3.71|  Male|    No|Sun|Dinner|   3|\n",
      "|     16.97| 3.5|Female|    No|Sun|Dinner|   3|\n",
      "|     20.65|3.35|  Male|    No|Sat|Dinner|   3|\n",
      "+----------+----+------+------+---+------+----+\n",
      "only showing top 20 rows\n",
      "\n"
     ]
    }
   ],
   "source": [
    "df.show()"
   ]
  },
  {
   "cell_type": "code",
   "execution_count": 42,
   "id": "4d8e2e95-5fe8-4daf-9aed-c408ac19ecd9",
   "metadata": {},
   "outputs": [],
   "source": [
    "df.createOrReplaceTempView('tips')"
   ]
  },
  {
   "cell_type": "code",
   "execution_count": 44,
   "id": "36581d1d-0c07-47da-83ad-803101a43297",
   "metadata": {},
   "outputs": [
    {
     "name": "stdout",
     "output_type": "stream",
     "text": [
      "+--------+\n",
      "|count(1)|\n",
      "+--------+\n",
      "|     244|\n",
      "+--------+\n",
      "\n"
     ]
    }
   ],
   "source": [
    "spark.sql('select count(*) from tips').show()"
   ]
  },
  {
   "cell_type": "code",
   "execution_count": 47,
   "id": "f9171129-29b5-49f9-8ca7-1da930c65e76",
   "metadata": {},
   "outputs": [
    {
     "name": "stdout",
     "output_type": "stream",
     "text": [
      "+----------+----+------+------+----+------+----+\n",
      "|total_bill| tip|   sex|smoker| day|  time|size|\n",
      "+----------+----+------+------+----+------+----+\n",
      "|     39.42|7.58|  Male|    No| Sat|Dinner|   4|\n",
      "|      30.4| 5.6|  Male|    No| Sun|Dinner|   4|\n",
      "|      32.4|   6|  Male|    No| Sun|Dinner|   4|\n",
      "|     34.81| 5.2|Female|    No| Sun|Dinner|   4|\n",
      "|     48.27|6.73|  Male|    No| Sat|Dinner|   4|\n",
      "|     34.83|5.17|Female|    No|Thur| Lunch|   4|\n",
      "|     24.71|5.85|  Male|    No|Thur| Lunch|   2|\n",
      "|     29.93|5.07|  Male|    No| Sun|Dinner|   4|\n",
      "|      34.3| 6.7|  Male|    No|Thur| Lunch|   6|\n",
      "|     29.85|5.14|Female|    No| Sun|Dinner|   5|\n",
      "|     50.81|  10|  Male|   Yes| Sat|Dinner|   3|\n",
      "|      7.25|5.15|  Male|   Yes| Sun|Dinner|   2|\n",
      "|     23.33|5.65|  Male|   Yes| Sun|Dinner|   2|\n",
      "|     23.17| 6.5|  Male|   Yes| Sun|Dinner|   4|\n",
      "|     25.89|5.16|  Male|   Yes| Sat|Dinner|   4|\n",
      "|     48.33|   9|  Male|    No| Sat|Dinner|   4|\n",
      "|     28.17| 6.5|Female|   Yes| Sat|Dinner|   3|\n",
      "|     29.03|5.92|  Male|    No| Sat|Dinner|   3|\n",
      "+----------+----+------+------+----+------+----+\n",
      "\n"
     ]
    }
   ],
   "source": [
    "spark.sql('select * from tips where tip > (select percentile(tip, 0.9) from tips)').show()"
   ]
  },
  {
   "cell_type": "code",
   "execution_count": 49,
   "id": "4d8e0b58-7368-4533-9d1f-593fe4cf45df",
   "metadata": {},
   "outputs": [
    {
     "name": "stdout",
     "output_type": "stream",
     "text": [
      "+----------+----+------+------+----+------+----+----+\n",
      "|total_bill| tip|   sex|smoker| day|  time|size|rank|\n",
      "+----------+----+------+------+----+------+----+----+\n",
      "|     28.17| 6.5|Female|   Yes| Sat|Dinner|   3|   1|\n",
      "|     34.81| 5.2|Female|    No| Sun|Dinner|   4|   2|\n",
      "|     34.83|5.17|Female|    No|Thur| Lunch|   4|   3|\n",
      "|     29.85|5.14|Female|    No| Sun|Dinner|   5|   4|\n",
      "|     35.26|   5|Female|    No| Sun|Dinner|   4|   5|\n",
      "|     25.28|   5|Female|   Yes| Sat|Dinner|   2|   5|\n",
      "|     27.05|   5|Female|    No|Thur| Lunch|   6|   5|\n",
      "|     43.11|   5|Female|   Yes|Thur| Lunch|   4|   5|\n",
      "|     35.83|4.67|Female|    No| Sat|Dinner|   3|   9|\n",
      "|     16.32| 4.3|Female|   Yes| Fri|Dinner|   2|  10|\n",
      "|      29.8| 4.2|Female|    No|Thur| Lunch|   6|  11|\n",
      "|     19.81|4.19|Female|   Yes|Thur| Lunch|   2|  12|\n",
      "|     20.92|4.08|Female|    No| Sat|Dinner|   2|  13|\n",
      "|     14.31|   4|Female|   Yes| Sat|Dinner|   2|  14|\n",
      "|     25.71|   4|Female|    No| Sun|Dinner|   3|  14|\n",
      "|       9.6|   4|Female|   Yes| Sun|Dinner|   2|  14|\n",
      "|        25|3.75|Female|    No| Sun|Dinner|   4|  17|\n",
      "|     24.59|3.61|Female|    No| Sun|Dinner|   4|  18|\n",
      "|     16.97| 3.5|Female|    No| Sun|Dinner|   3|  19|\n",
      "|     17.31| 3.5|Female|    No| Sun|Dinner|   2|  19|\n",
      "+----------+----+------+------+----+------+----+----+\n",
      "only showing top 20 rows\n",
      "\n"
     ]
    },
    {
     "name": "stderr",
     "output_type": "stream",
     "text": [
      "25/05/18 04:39:20 WARN HeartbeatReceiver: Removing executor driver with no recent heartbeats: 237969 ms exceeds timeout 120000 ms\n",
      "25/05/18 04:39:20 WARN SparkContext: Killing executors is not supported by current scheduler.\n"
     ]
    }
   ],
   "source": [
    "spark.sql('select *, RANK() over (partition by sex order by tip desc) as rank from tips').show()"
   ]
  },
  {
   "cell_type": "code",
   "execution_count": null,
   "id": "6cbb8c19-6059-4179-bda3-eb79e62158e0",
   "metadata": {},
   "outputs": [],
   "source": []
  },
  {
   "cell_type": "code",
   "execution_count": null,
   "id": "a98a017d-f359-4d0f-8628-967fd3a0d067",
   "metadata": {},
   "outputs": [],
   "source": []
  },
  {
   "cell_type": "code",
   "execution_count": null,
   "id": "523f223f-aca5-48bf-8f3e-f4ff9cdfcf4c",
   "metadata": {},
   "outputs": [],
   "source": []
  }
 ],
 "metadata": {
  "kernelspec": {
   "display_name": "Python 3 (ipykernel)",
   "language": "python",
   "name": "python3"
  },
  "language_info": {
   "codemirror_mode": {
    "name": "ipython",
    "version": 3
   },
   "file_extension": ".py",
   "mimetype": "text/x-python",
   "name": "python",
   "nbconvert_exporter": "python",
   "pygments_lexer": "ipython3",
   "version": "3.11.0"
  }
 },
 "nbformat": 4,
 "nbformat_minor": 5
}
