{
  "nbformat": 4,
  "nbformat_minor": 0,
  "metadata": {
    "colab": {
      "provenance": [],
      "collapsed_sections": [
        "kkSXsFae8Cct",
        "7AYS0MlUvfrI",
        "WNaboQo22HOW",
        "2fj4XecA5nX_",
        "fUjc4g4xHE7p",
        "D6Syynf5QCxB",
        "0k8qNqs2T2a0",
        "jzlxJnZ6bNcq"
      ]
    },
    "kernelspec": {
      "name": "python3",
      "display_name": "Python 3"
    },
    "language_info": {
      "name": "python"
    }
  },
  "cells": [
    {
      "cell_type": "markdown",
      "source": [
        "## JSON"
      ],
      "metadata": {
        "id": "nk3Cuw0i9tDU"
      }
    },
    {
      "cell_type": "code",
      "source": [
        "from pyspark.sql import SparkSession\n",
        "from pyspark.sql.functions import from_json, to_json, get_json_object, schema_of_json, col\n",
        "# from pyspark.sql.types import StructType, StructField, StringType, IntegerType\n",
        "\n",
        "# Create Spark session\n",
        "spark = SparkSession.builder.appName(\"PySpark JSON Functions\").getOrCreate()\n",
        "\n",
        "# Sample data\n",
        "data = [\n",
        "    (\"1\", '{\"name\":\"Alice\",\"age\":30,\"address\":{\"city\":\"New York\",\"zip\":\"10001\"}}'),\n",
        "    (\"2\", '{\"name\":\"Bob\",\"age\":25,\"address\":{\"city\":\"Los Angeles\",\"zip\":\"90001\"}}')\n",
        "]\n",
        "\n",
        "df = spark.createDataFrame(data, [\"id\", \"person_json\"])\n",
        "\n",
        "# Show initial DataFrame\n",
        "df.show(truncate=False)\n"
      ],
      "metadata": {
        "id": "zo8SK4fQeMUQ",
        "colab": {
          "base_uri": "https://localhost:8080/"
        },
        "outputId": "b654a780-d56b-4a04-ddac-27bbf1ca779d"
      },
      "execution_count": 1,
      "outputs": [
        {
          "output_type": "stream",
          "name": "stdout",
          "text": [
            "+---+----------------------------------------------------------------------+\n",
            "|id |person_json                                                           |\n",
            "+---+----------------------------------------------------------------------+\n",
            "|1  |{\"name\":\"Alice\",\"age\":30,\"address\":{\"city\":\"New York\",\"zip\":\"10001\"}} |\n",
            "|2  |{\"name\":\"Bob\",\"age\":25,\"address\":{\"city\":\"Los Angeles\",\"zip\":\"90001\"}}|\n",
            "+---+----------------------------------------------------------------------+\n",
            "\n"
          ]
        }
      ]
    },
    {
      "cell_type": "code",
      "source": [
        "from pyspark.sql.functions import lit"
      ],
      "metadata": {
        "id": "Q7SM8flkNGo7"
      },
      "execution_count": 2,
      "outputs": []
    },
    {
      "cell_type": "code",
      "source": [
        "sample = '{\"name\":\"Alice\",\"age\":30,\"address\":{\"city\":\"New York\",\"zip\":\"10001\"}}'\n",
        "json_schema = schema_of_json(lit(sample))\n",
        "json_schema\n"
      ],
      "metadata": {
        "colab": {
          "base_uri": "https://localhost:8080/"
        },
        "id": "ZjkpUB2eMlA_",
        "outputId": "d22b8a6d-23b7-4e30-d323-bdcce63a5d43"
      },
      "execution_count": 3,
      "outputs": [
        {
          "output_type": "execute_result",
          "data": {
            "text/plain": [
              "Column<'schema_of_json({\"name\":\"Alice\",\"age\":30,\"address\":{\"city\":\"New York\",\"zip\":\"10001\"}})'>"
            ]
          },
          "metadata": {},
          "execution_count": 3
        }
      ]
    },
    {
      "cell_type": "code",
      "source": [
        "df.select(json_schema).show()"
      ],
      "metadata": {
        "colab": {
          "base_uri": "https://localhost:8080/"
        },
        "id": "JltCxBykMw8r",
        "outputId": "b8f6c6b0-c1c6-4efc-a246-0b2cce284f62"
      },
      "execution_count": 4,
      "outputs": [
        {
          "output_type": "stream",
          "name": "stdout",
          "text": [
            "+-------------------------------------------------------------------------------------+\n",
            "|schema_of_json({\"name\":\"Alice\",\"age\":30,\"address\":{\"city\":\"New York\",\"zip\":\"10001\"}})|\n",
            "+-------------------------------------------------------------------------------------+\n",
            "|                                                                 STRUCT<address: S...|\n",
            "|                                                                 STRUCT<address: S...|\n",
            "+-------------------------------------------------------------------------------------+\n",
            "\n"
          ]
        }
      ]
    },
    {
      "cell_type": "code",
      "source": [
        "df.select(json_schema).first()"
      ],
      "metadata": {
        "colab": {
          "base_uri": "https://localhost:8080/"
        },
        "id": "Bz_vXKxiNodK",
        "outputId": "34cdb508-109e-4b07-8bad-bfecd8958efc"
      },
      "execution_count": 5,
      "outputs": [
        {
          "output_type": "execute_result",
          "data": {
            "text/plain": [
              "Row(schema_of_json({\"name\":\"Alice\",\"age\":30,\"address\":{\"city\":\"New York\",\"zip\":\"10001\"}})='STRUCT<address: STRUCT<city: STRING, zip: STRING>, age: BIGINT, name: STRING>')"
            ]
          },
          "metadata": {},
          "execution_count": 5
        }
      ]
    },
    {
      "cell_type": "code",
      "source": [
        "df = df.withColumn('person', from_json('person_json', json_schema))\n",
        "df.show()"
      ],
      "metadata": {
        "colab": {
          "base_uri": "https://localhost:8080/"
        },
        "id": "AGPv-BhSOFpk",
        "outputId": "365e11ff-0dbd-4698-a3b3-275b81940af5"
      },
      "execution_count": 6,
      "outputs": [
        {
          "output_type": "stream",
          "name": "stdout",
          "text": [
            "+---+--------------------+--------------------+\n",
            "| id|         person_json|              person|\n",
            "+---+--------------------+--------------------+\n",
            "|  1|{\"name\":\"Alice\",\"...|{{New York, 10001...|\n",
            "|  2|{\"name\":\"Bob\",\"ag...|{{Los Angeles, 90...|\n",
            "+---+--------------------+--------------------+\n",
            "\n"
          ]
        }
      ]
    },
    {
      "cell_type": "code",
      "source": [
        "df.select('person.address.city').show()"
      ],
      "metadata": {
        "colab": {
          "base_uri": "https://localhost:8080/"
        },
        "id": "nLfsq2woOFkP",
        "outputId": "143ffd57-bd4a-4e78-cd24-9fba6c2ed5d0"
      },
      "execution_count": 7,
      "outputs": [
        {
          "output_type": "stream",
          "name": "stdout",
          "text": [
            "+-----------+\n",
            "|       city|\n",
            "+-----------+\n",
            "|   New York|\n",
            "|Los Angeles|\n",
            "+-----------+\n",
            "\n"
          ]
        }
      ]
    },
    {
      "cell_type": "code",
      "source": [
        "df.select('person.*').show()"
      ],
      "metadata": {
        "colab": {
          "base_uri": "https://localhost:8080/"
        },
        "id": "6d_WaYIWQBab",
        "outputId": "d924b72c-7f65-4af7-8a56-aabacf622d15"
      },
      "execution_count": 8,
      "outputs": [
        {
          "output_type": "stream",
          "name": "stdout",
          "text": [
            "+--------------------+---+-----+\n",
            "|             address|age| name|\n",
            "+--------------------+---+-----+\n",
            "|   {New York, 10001}| 30|Alice|\n",
            "|{Los Angeles, 90001}| 25|  Bob|\n",
            "+--------------------+---+-----+\n",
            "\n"
          ]
        }
      ]
    },
    {
      "cell_type": "code",
      "source": [
        "df.select('person.address.*').show()"
      ],
      "metadata": {
        "colab": {
          "base_uri": "https://localhost:8080/"
        },
        "id": "_CygedeCQBWt",
        "outputId": "86e9fbbe-5ea0-45fa-b733-8d5e1968e46d"
      },
      "execution_count": 9,
      "outputs": [
        {
          "output_type": "stream",
          "name": "stdout",
          "text": [
            "+-----------+-----+\n",
            "|       city|  zip|\n",
            "+-----------+-----+\n",
            "|   New York|10001|\n",
            "|Los Angeles|90001|\n",
            "+-----------+-----+\n",
            "\n"
          ]
        }
      ]
    },
    {
      "cell_type": "code",
      "source": [
        "df.select(get_json_object('person_json', '$.address.city')).show()"
      ],
      "metadata": {
        "colab": {
          "base_uri": "https://localhost:8080/"
        },
        "id": "NcoECneNQBA8",
        "outputId": "67704fc8-4ccc-4b5e-8e15-a5e8cdf20686"
      },
      "execution_count": 10,
      "outputs": [
        {
          "output_type": "stream",
          "name": "stdout",
          "text": [
            "+--------------------------------------------+\n",
            "|get_json_object(person_json, $.address.city)|\n",
            "+--------------------------------------------+\n",
            "|                                    New York|\n",
            "|                                 Los Angeles|\n",
            "+--------------------------------------------+\n",
            "\n"
          ]
        }
      ]
    },
    {
      "cell_type": "code",
      "source": [
        "df.select(to_json('person')).show()"
      ],
      "metadata": {
        "id": "rlTxgsGcQA9K",
        "colab": {
          "base_uri": "https://localhost:8080/"
        },
        "outputId": "d25fcaf7-5358-4aa7-d054-c1eb66087315"
      },
      "execution_count": 11,
      "outputs": [
        {
          "output_type": "stream",
          "name": "stdout",
          "text": [
            "+--------------------+\n",
            "|     to_json(person)|\n",
            "+--------------------+\n",
            "|{\"address\":{\"city...|\n",
            "|{\"address\":{\"city...|\n",
            "+--------------------+\n",
            "\n"
          ]
        }
      ]
    },
    {
      "cell_type": "code",
      "source": [
        "from pyspark.sql.functions import json_tuple\n",
        "\n",
        "# Form rows with selected fields from json column\n",
        "df.select(json_tuple('person_json', 'name', 'age')).collect()"
      ],
      "metadata": {
        "id": "a9S1pV0LP_JB",
        "colab": {
          "base_uri": "https://localhost:8080/"
        },
        "outputId": "306ab85a-6817-4095-fce4-38efaa65ba43"
      },
      "execution_count": 14,
      "outputs": [
        {
          "output_type": "execute_result",
          "data": {
            "text/plain": [
              "[Row(c0='Alice', c1='30'), Row(c0='Bob', c1='25')]"
            ]
          },
          "metadata": {},
          "execution_count": 14
        }
      ]
    },
    {
      "cell_type": "code",
      "source": [],
      "metadata": {
        "id": "EncdXdlqP_vv"
      },
      "execution_count": null,
      "outputs": []
    },
    {
      "cell_type": "code",
      "source": [
        "person = {\"name\":\"Alice\",\"age\":30,\"address\":{\"city\":\"New York\",\"zip\":\"10001\"}}\n",
        "person[\"address\"]['city']"
      ],
      "metadata": {
        "colab": {
          "base_uri": "https://localhost:8080/",
          "height": 56
        },
        "id": "IOjW8CMAOFbZ",
        "outputId": "650d0f1d-4521-4599-929a-370a6b3a25ec"
      },
      "execution_count": null,
      "outputs": [
        {
          "output_type": "execute_result",
          "data": {
            "text/plain": [
              "'New York'"
            ],
            "application/vnd.google.colaboratory.intrinsic+json": {
              "type": "string"
            }
          },
          "metadata": {},
          "execution_count": 8
        }
      ]
    },
    {
      "cell_type": "code",
      "source": [],
      "metadata": {
        "id": "BTTH8WEgOFNN"
      },
      "execution_count": null,
      "outputs": []
    },
    {
      "cell_type": "code",
      "source": [],
      "metadata": {
        "id": "2kJjGr9ZOEJv"
      },
      "execution_count": null,
      "outputs": []
    },
    {
      "cell_type": "code",
      "source": [
        "parsed_df = df.withColumn(\"person\", from_json(col(\"person_json\"), json_schema))\n",
        "parsed_df.show()"
      ],
      "metadata": {
        "colab": {
          "base_uri": "https://localhost:8080/"
        },
        "id": "YADU0WJUCwO1",
        "outputId": "659e7d22-e81c-4d98-c31e-832fa5bb500c"
      },
      "execution_count": null,
      "outputs": [
        {
          "output_type": "stream",
          "name": "stdout",
          "text": [
            "+---+--------------------+--------------------+\n",
            "| id|         person_json|              person|\n",
            "+---+--------------------+--------------------+\n",
            "|  1|{\"name\":\"Alice\",\"...|{{New York, 10001...|\n",
            "|  2|{\"name\":\"Bob\",\"ag...|{{Los Angeles, 90...|\n",
            "+---+--------------------+--------------------+\n",
            "\n"
          ]
        }
      ]
    },
    {
      "cell_type": "code",
      "source": [
        "parsed_df.select(\"person.address.*\").show(truncate=False)"
      ],
      "metadata": {
        "colab": {
          "base_uri": "https://localhost:8080/"
        },
        "id": "U2zZRgMuGqdO",
        "outputId": "6b3d2423-209f-40e0-c6fe-bd49fc85a99e"
      },
      "execution_count": null,
      "outputs": [
        {
          "output_type": "stream",
          "name": "stdout",
          "text": [
            "+-----------+-----+\n",
            "|city       |zip  |\n",
            "+-----------+-----+\n",
            "|New York   |10001|\n",
            "|Los Angeles|90001|\n",
            "+-----------+-----+\n",
            "\n"
          ]
        }
      ]
    },
    {
      "cell_type": "code",
      "source": [
        "df.withColumn(\"city\", get_json_object(col(\"person_json\"), \"$.address.city\")) \\\n",
        "  .withColumn(\"age\", get_json_object(col(\"person_json\"), \"$.age\")) \\\n",
        "  .show(truncate=False)\n"
      ],
      "metadata": {
        "colab": {
          "base_uri": "https://localhost:8080/"
        },
        "id": "wpvKVQJJCxKr",
        "outputId": "e9c32c47-0dac-48a2-ed7e-f78b0dcfb922"
      },
      "execution_count": null,
      "outputs": [
        {
          "output_type": "stream",
          "name": "stdout",
          "text": [
            "+---+----------------------------------------------------------------------+-----------+---+\n",
            "|id |person_json                                                           |city       |age|\n",
            "+---+----------------------------------------------------------------------+-----------+---+\n",
            "|1  |{\"name\":\"Alice\",\"age\":30,\"address\":{\"city\":\"New York\",\"zip\":\"10001\"}} |New York   |30 |\n",
            "|2  |{\"name\":\"Bob\",\"age\":25,\"address\":{\"city\":\"Los Angeles\",\"zip\":\"90001\"}}|Los Angeles|25 |\n",
            "+---+----------------------------------------------------------------------+-----------+---+\n",
            "\n"
          ]
        }
      ]
    },
    {
      "cell_type": "code",
      "source": [
        "df.select(get_json_object('person_json', '$.address.city').alias('city')).show()"
      ],
      "metadata": {
        "colab": {
          "base_uri": "https://localhost:8080/"
        },
        "id": "1rsZW0_sDITR",
        "outputId": "f86c102b-43c0-4d03-a318-9ba92efb973d"
      },
      "execution_count": null,
      "outputs": [
        {
          "output_type": "stream",
          "name": "stdout",
          "text": [
            "+-----------+\n",
            "|       city|\n",
            "+-----------+\n",
            "|   New York|\n",
            "|Los Angeles|\n",
            "+-----------+\n",
            "\n"
          ]
        }
      ]
    },
    {
      "cell_type": "code",
      "source": [
        "df.withColumn(\"city\", get_json_object(\"person_json\", \"$.address.city\")) \\\n",
        "  .withColumn(\"age\", get_json_object(\"person_json\", \"$.age\")) \\\n",
        "  .show(truncate=False)\n"
      ],
      "metadata": {
        "colab": {
          "base_uri": "https://localhost:8080/"
        },
        "id": "k6S7bs0aDSgX",
        "outputId": "6a7d0660-8e69-432c-bee2-d792b3021ea7"
      },
      "execution_count": null,
      "outputs": [
        {
          "output_type": "stream",
          "name": "stdout",
          "text": [
            "+---+----------------------------------------------------------------------+-----------+---+\n",
            "|id |person_json                                                           |city       |age|\n",
            "+---+----------------------------------------------------------------------+-----------+---+\n",
            "|1  |{\"name\":\"Alice\",\"age\":30,\"address\":{\"city\":\"New York\",\"zip\":\"10001\"}} |New York   |30 |\n",
            "|2  |{\"name\":\"Bob\",\"age\":25,\"address\":{\"city\":\"Los Angeles\",\"zip\":\"90001\"}}|Los Angeles|25 |\n",
            "+---+----------------------------------------------------------------------+-----------+---+\n",
            "\n"
          ]
        }
      ]
    },
    {
      "cell_type": "code",
      "source": [
        "df.select(get_json_object(df.person_json, '$.address.city').alias('city')).show()"
      ],
      "metadata": {
        "colab": {
          "base_uri": "https://localhost:8080/"
        },
        "id": "GLnw_vwZD-dm",
        "outputId": "35f1fbff-72cd-422c-d0d1-cfce9598758e"
      },
      "execution_count": null,
      "outputs": [
        {
          "output_type": "stream",
          "name": "stdout",
          "text": [
            "+-----------+\n",
            "|       city|\n",
            "+-----------+\n",
            "|   New York|\n",
            "|Los Angeles|\n",
            "+-----------+\n",
            "\n"
          ]
        }
      ]
    },
    {
      "cell_type": "code",
      "source": [
        "from pyspark.sql.functions import explode"
      ],
      "metadata": {
        "id": "BewZMQpRHwjQ"
      },
      "execution_count": null,
      "outputs": []
    },
    {
      "cell_type": "code",
      "source": [
        "from pyspark.sql import SparkSession\n",
        "from pyspark.sql.functions import explode, split\n",
        "\n",
        "data = [(\"Alice\", \"apple,banana,orange\"), (\"Bob\", \"grape,kiwi\")]\n",
        "df = spark.createDataFrame(data, [\"name\", \"fruits_string\"])\n",
        "\n",
        "df_exploded = df.withColumn(\"fruits_array\", split(df[\"fruits_string\"], \",\"))\n",
        "df_exploded = df_exploded.drop(\"fruits_string\").withColumn(\"fruit\", explode(\"fruits_array\"))\n",
        "\n",
        "df_exploded.show()\n"
      ],
      "metadata": {
        "colab": {
          "base_uri": "https://localhost:8080/"
        },
        "id": "BRbx5IjTRM8m",
        "outputId": "033c880b-4177-4c28-b085-ca4270bfe552"
      },
      "execution_count": null,
      "outputs": [
        {
          "output_type": "stream",
          "name": "stdout",
          "text": [
            "+-----+--------------------+------+\n",
            "| name|        fruits_array| fruit|\n",
            "+-----+--------------------+------+\n",
            "|Alice|[apple, banana, o...| apple|\n",
            "|Alice|[apple, banana, o...|banana|\n",
            "|Alice|[apple, banana, o...|orange|\n",
            "|  Bob|       [grape, kiwi]| grape|\n",
            "|  Bob|       [grape, kiwi]|  kiwi|\n",
            "+-----+--------------------+------+\n",
            "\n"
          ]
        }
      ]
    },
    {
      "cell_type": "code",
      "source": [
        "from pyspark.sql.functions import struct\n",
        "\n",
        "# Create a new struct and convert to JSON\n",
        "structured_df = df.withColumn(\"new_json\", to_json(struct(lit(\"Eve\").alias(\"name\"), lit(40).alias(\"age\"))))\n",
        "structured_df.select(\"id\", \"new_json\").show(truncate=False)"
      ],
      "metadata": {
        "colab": {
          "base_uri": "https://localhost:8080/"
        },
        "id": "r2mcdvBrRxqg",
        "outputId": "270b1e33-33a4-4182-95d3-8c43454bc296"
      },
      "execution_count": null,
      "outputs": [
        {
          "output_type": "stream",
          "name": "stdout",
          "text": [
            "+---+-----------------------+\n",
            "|id |new_json               |\n",
            "+---+-----------------------+\n",
            "|1  |{\"name\":\"Eve\",\"age\":40}|\n",
            "|2  |{\"name\":\"Eve\",\"age\":40}|\n",
            "+---+-----------------------+\n",
            "\n"
          ]
        }
      ]
    },
    {
      "cell_type": "code",
      "source": [],
      "metadata": {
        "id": "vmc0xIYNE3jf"
      },
      "execution_count": null,
      "outputs": []
    }
  ]
}