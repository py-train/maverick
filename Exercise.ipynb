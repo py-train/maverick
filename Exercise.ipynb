{
 "cells": [
  {
   "cell_type": "markdown",
   "id": "c64cb835-fbce-4528-83ee-28e291cc21bb",
   "metadata": {},
   "source": [
    "# Exercise\n",
    "\n",
    "This exercise is based on the movie titles dataset. This dataset comes from https://developer.imdb.com/non-commercial-datasets/\n",
    "\n"
   ]
  },
  {
   "cell_type": "code",
   "execution_count": null,
   "id": "6caddc30-5bda-44ab-b119-db31b37a9afd",
   "metadata": {},
   "outputs": [],
   "source": [
    "# Load the titles.csv file into a pyspark dataframe\n",
    "\n"
   ]
  },
  {
   "cell_type": "code",
   "execution_count": null,
   "id": "73387c3a-32a0-49a9-9553-ca6b1c45beee",
   "metadata": {},
   "outputs": [],
   "source": [
    "# Explore the columns in the dataframe\n",
    "\n"
   ]
  },
  {
   "cell_type": "code",
   "execution_count": null,
   "id": "7475c84d-75f8-4077-aafb-656cc97e72b0",
   "metadata": {},
   "outputs": [],
   "source": [
    "# Check if the datatypes have been correctly inferred\n",
    "\n"
   ]
  },
  {
   "cell_type": "code",
   "execution_count": null,
   "id": "bade3af5-0ab6-4a92-b564-cbf0706b3df9",
   "metadata": {},
   "outputs": [],
   "source": [
    "# The runtime column specifies the length of the movie in minutes\n",
    "# Calculate the total runtime of all movies in the dataset\n",
    "\n"
   ]
  },
  {
   "cell_type": "code",
   "execution_count": null,
   "id": "3b740d76-c75d-474b-9bbd-ed60d6acb650",
   "metadata": {},
   "outputs": [],
   "source": [
    "# Calculate the minimum, maximum and average runtime\n",
    "\n"
   ]
  },
  {
   "cell_type": "markdown",
   "id": "4399f9c3-b70c-4935-92eb-64b24c2e5f63",
   "metadata": {},
   "source": [
    "## Fun fact\n",
    "\n",
    "- What value do you get for the **maximum**? Doesn't it appear like an outlier? Or is it?\n",
    "- https://en.wikipedia.org/wiki/Logistics_(film)"
   ]
  },
  {
   "cell_type": "code",
   "execution_count": null,
   "id": "2492da94-c2e2-4de0-bdfa-92e7858f2684",
   "metadata": {},
   "outputs": [],
   "source": [
    "# Find the title of the movie with the maximum runtime\n",
    "\n"
   ]
  },
  {
   "cell_type": "code",
   "execution_count": null,
   "id": "74ef5d88-7b0f-47fe-b5fc-68ce12358369",
   "metadata": {},
   "outputs": [],
   "source": [
    "# The isAdult column indicates if the movie has adult content\n",
    "# Calculate the count of movies that are maked as adult\n",
    "\n"
   ]
  },
  {
   "cell_type": "code",
   "execution_count": null,
   "id": "052236e0-f340-422a-b993-ac3054323840",
   "metadata": {},
   "outputs": [],
   "source": [
    "# The dataset give data for movies from the very start of movie making\n",
    "# That's more than 100 years of data!\n",
    "\n",
    "# Calculate counts of movies made per year\n",
    "\n"
   ]
  },
  {
   "cell_type": "code",
   "execution_count": null,
   "id": "d1c8f3e9-037e-4d88-a77e-a835d234ba11",
   "metadata": {},
   "outputs": [],
   "source": [
    "# The movie titles are typically multiple words\n",
    "# Extract the first word of the titles (Hint: '\\w+' in regexp indicates a word)\n",
    "\n"
   ]
  },
  {
   "cell_type": "code",
   "execution_count": null,
   "id": "b93bc35d-4ee8-4396-bc40-8c564ffb1f61",
   "metadata": {},
   "outputs": [],
   "source": [
    "# The genre column indicates one or more genres that the movie lies in\n",
    "# Find all Comedy movies (i.e. all movies that include the comedy genre\n",
    "# (Hine: col('colname').contains(...)\n",
    "\n"
   ]
  },
  {
   "cell_type": "markdown",
   "id": "fd01e49e-887c-461c-b76e-82ab567d3d23",
   "metadata": {},
   "source": [
    "## Challenge Question"
   ]
  },
  {
   "cell_type": "code",
   "execution_count": null,
   "id": "b6b405c1-3bdb-4638-a87a-5c5cef43327a",
   "metadata": {},
   "outputs": [],
   "source": [
    "# The generes column has a comma separated list of genres that the movie belongs to\n",
    "# But what is the comprehensive list of unique genres that are present in this dataset?\n",
    "# Can they be collected into an output python list like : ['Coemdy', 'Drama', ..]?\n",
    "# (Hint keywords: split, array, explode, ..\n",
    "\n"
   ]
  }
 ],
 "metadata": {
  "kernelspec": {
   "display_name": "Python 3 (ipykernel)",
   "language": "python",
   "name": "python3"
  },
  "language_info": {
   "codemirror_mode": {
    "name": "ipython",
    "version": 3
   },
   "file_extension": ".py",
   "mimetype": "text/x-python",
   "name": "python",
   "nbconvert_exporter": "python",
   "pygments_lexer": "ipython3",
   "version": "3.11.0"
  }
 },
 "nbformat": 4,
 "nbformat_minor": 5
}
